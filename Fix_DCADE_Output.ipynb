{
 "cells": [
  {
   "cell_type": "code",
   "execution_count": 1,
   "metadata": {},
   "outputs": [],
   "source": [
    "import suffix_tree\n",
    "import pandas as pd\n",
    "import os\n",
    "import json\n",
    "import pickle\n",
    "from read_file import read_file\n",
    "import node_op"
   ]
  },
  {
   "cell_type": "code",
   "execution_count": 2,
   "metadata": {},
   "outputs": [],
   "source": [
    "find_encode = 1\n",
    "brute = 1\n",
    "drop_last = 1\n",
    "\"\"\"\n",
    "Segmentation method\n",
    "- 0: Unique MT\n",
    "- 1: Split by top repeaat\n",
    "\"\"\"\n",
    "seg_method = 1\n",
    "ignore_1 = 1\n",
    "MINIMAL_REPEAT = 5"
   ]
  },
  {
   "cell_type": "code",
   "execution_count": 3,
   "metadata": {},
   "outputs": [],
   "source": [
    "def binary(string, length):\n",
    "    while len(string) != length:\n",
    "        string = '0' + string\n",
    "    return string"
   ]
  },
  {
   "cell_type": "markdown",
   "metadata": {},
   "source": [
    "# Input File"
   ]
  },
  {
   "cell_type": "code",
   "execution_count": 4,
   "metadata": {},
   "outputs": [
    {
     "name": "stdout",
     "output_type": "stream",
     "text": [
      "C:\\Users\\rick\\Desktop\\test\\1\\Output\\TXT\\TableA.txt\n"
     ]
    }
   ],
   "source": [
    "#current_path = os.path.join(os.path.expanduser(\"~\"), \"jupyter\", \"Fix_DCADE_Output\")\n",
    "#current_path = os.path.join(os.path.expanduser(\"~\"), \"Desktop\", \"DCADE\", \"TAM\")\n",
    "current_path = os.path.join(os.path.expanduser(\"~\"), \"Desktop\", \"test\", \"1\")\n",
    "#current_path = os.path.join(os.path.expanduser(\"~\"), \"Desktop\", \"test\", \"2\")\n",
    "input_file_path = os.path.join(current_path, \"Output\", \"TXT\", \"TableA.txt\")\n",
    "print(input_file_path)"
   ]
  },
  {
   "cell_type": "code",
   "execution_count": 5,
   "metadata": {
    "scrolled": true
   },
   "outputs": [],
   "source": [
    "f = read_file(input_file_path)\n",
    "content = f[0]\n",
    "recb_start = f[1]\n",
    "recb_end = f[2]\n",
    "tag = f[3]\n",
    "ids = f[4]\n",
    "classes = f[5]\n",
    "pathid = f[6]\n",
    "parentid = f[7]\n",
    "tecid = f[8]\n",
    "cecid = f[9]\n",
    "encoding = f[10]\n",
    "col = f[11]\n",
    "others = f[12]"
   ]
  },
  {
   "cell_type": "code",
   "execution_count": 6,
   "metadata": {},
   "outputs": [
    {
     "name": "stdout",
     "output_type": "stream",
     "text": [
      "Unique MT's index:\n",
      " [7, 175, 254, 295, 330, 340, 380, 420, 535, 560]\n"
     ]
    }
   ],
   "source": [
    "tec_dict = {}\n",
    "unique_mt = []\n",
    "for node in range(len(col)):\n",
    "    if col[node] == 'MT':\n",
    "        if tecid[node] not in tec_dict.keys():\n",
    "            tec_dict[tecid[node]] = [node]\n",
    "        else:\n",
    "            tec_dict[tecid[node]].append(node)\n",
    "for key in tec_dict.keys():\n",
    "    if len(tec_dict[key]) == 1:\n",
    "        unique_mt += tec_dict[key]\n",
    "print(\"Unique MT's index:\\n\", unique_mt)"
   ]
  },
  {
   "cell_type": "markdown",
   "metadata": {},
   "source": [
    "# Translate node in to unicode for suffix tree"
   ]
  },
  {
   "cell_type": "markdown",
   "metadata": {},
   "source": [
    "Change `encode_option` to use different attribute to encode leafnodes.\n",
    "<br><br>\n",
    "Leafnodes will have same encoding if they have same attribute."
   ]
  },
  {
   "cell_type": "code",
   "execution_count": 7,
   "metadata": {
    "scrolled": false
   },
   "outputs": [
    {
     "name": "stdout",
     "output_type": "stream",
     "text": [
      "000001011\n",
      "Set count: 1 Length: 2 Score: 2 \n",
      " [(0, '\\x07\\x08')]\n",
      "000010011\n",
      "Set count: 1 Length: 2 Score: 0 \n",
      " [(0, '\\x00\\x00')]\n",
      "000100011\n",
      "Set count: 1 Length: 2 Score: 0 \n",
      " [(0, '\\x03\\x03')]\n",
      "000101001\n",
      "Set count: 1 Length: 2 Score: 2 \n",
      " [(0, '\\x08\\t')]\n",
      "000110001\n",
      "Set count: 1 Length: 2 Score: 0 \n",
      " [(0, '\\x05\\x05')]\n",
      "Best: {'score': 2, 'option': '000101001', 'Length': 2, 'Set count': 1}\n"
     ]
    }
   ],
   "source": [
    "best = {'score': 0, 'option':'000000000'}\n",
    "if find_encode == 1:\n",
    "    check_dict = {}\n",
    "    if brute == 1:\n",
    "        candidate = []\n",
    "        for i in range(7, 512):\n",
    "            tmp = binary('{0:b}'.format(i), 9)\n",
    "            if len(node_op.find_all_indexes(tmp, '1')) > 2:\n",
    "                candidate.append(tmp)\n",
    "    else:\n",
    "        #candidate = ['000110100', '000101010', '000101001']\n",
    "        with open('./good_encode.txt', 'rb') as f:\n",
    "            candidate = pickle.load(f)\n",
    "    for option in candidate:\n",
    "        encode_option = option\n",
    "        encode_col = [tag, ids, classes, pathid, parentid, tecid, cecid, encoding, col]\n",
    "        \"\"\"\n",
    "        Node op\n",
    "        ==================================================\n",
    "        \"\"\"\n",
    "        node_encode = node_op.encode_node(encode_col, encode_option, len(pathid))\n",
    "        whole_string = node_encode[0]\n",
    "        node_dict = node_encode[1] # code -> node num\n",
    "        index_dict = node_encode[2] # code -> first index\n",
    "        \"\"\"\n",
    "        ===================================================\n",
    "        \"\"\"\n",
    "        \n",
    "        inv_node_dict = {v: k for k, v in node_dict.items()} # node num -> code\n",
    "        inv_index_dict = {v: k for k, v in index_dict.items()} # index num -> code\n",
    "        if seg_method == 0:\n",
    "            segments = node_op.segment_mt(unique_mt, whole_string)\n",
    "            record_seg = node_op.mt_record_seg(segments, ignore_1, index_dict, inv_node_dict, MINIMAL_REPEAT)\n",
    "        if seg_method == 1:\n",
    "            segments, record_seg = node_op.segment_top(whole_string, ignore_1, index_dict, inv_node_dict, MINIMAL_REPEAT)\n",
    "        if len(record_seg) != 0 and str(record_seg) not in check_dict.keys():\n",
    "            check_dict[str(record_seg)] = 1\n",
    "            print(option)\n",
    "            length = 0\n",
    "            score = 0\n",
    "            for s in record_seg:\n",
    "                appear = []\n",
    "                for c in s[1]:\n",
    "                    if c not in appear:\n",
    "                        appear.append(c)\n",
    "                if len(appear) == 1: appear = []\n",
    "                score += len(appear)\n",
    "                length += len(s[1])\n",
    "            print(\"Set count:\", len(record_seg), \"Length:\", length, \"Score:\", score, \"\\n\", record_seg)\n",
    "            if score >= best['score']:\n",
    "                best['score'] = score\n",
    "                best['Length'] = length\n",
    "                best['Set count'] = len(record_seg)\n",
    "                best['option'] = option\n",
    "print(\"Best:\", best)"
   ]
  },
  {
   "cell_type": "code",
   "execution_count": 8,
   "metadata": {},
   "outputs": [
    {
     "name": "stdout",
     "output_type": "stream",
     "text": [
      "Example: \n",
      "35-2MT"
     ]
    }
   ],
   "source": [
    "if find_encode == 1:\n",
    "    encode_option = best['option']\n",
    "else:\n",
    "    encode_option = '000110100'\n",
    "\n",
    "encode_col = [tag, ids, classes, pathid, parentid, tecid, cecid, encoding, col]\n",
    "\"\"\"\n",
    "Node op\n",
    "==================================================\n",
    "\"\"\"\n",
    "node_encode = node_op.encode_node(encode_col, encode_option, len(pathid))\n",
    "whole_string = node_encode[0]\n",
    "node_dict = node_encode[1] # code -> node num\n",
    "index_dict = node_encode[2] # code -> first index\n",
    "\"\"\"\n",
    "===================================================\n",
    "\"\"\"\n",
    "print(\"Example: \")\n",
    "\n",
    "for col_num in range(len(encode_col)):\n",
    "    if encode_option[col_num] == '1':\n",
    "        print(encode_col[col_num][node], end='')\n",
    "inv_node_dict = {v: k for k, v in node_dict.items()} # node num -> code\n",
    "inv_index_dict = {v: k for k, v in index_dict.items()} # index num -> code\n",
    "#print(\"\\nConvert to Unicode String:\\n\", whole_string)"
   ]
  },
  {
   "cell_type": "code",
   "execution_count": 9,
   "metadata": {
    "scrolled": true
   },
   "outputs": [],
   "source": [
    "if seg_method == 0:\n",
    "    segments = node_op.segment_mt(unique_mt, whole_string)"
   ]
  },
  {
   "cell_type": "markdown",
   "metadata": {},
   "source": [
    "# Show maximal repeats"
   ]
  },
  {
   "cell_type": "markdown",
   "metadata": {},
   "source": [
    "Ignore maximal repeats if length equal to 1."
   ]
  },
  {
   "cell_type": "code",
   "execution_count": 10,
   "metadata": {
    "scrolled": true
   },
   "outputs": [],
   "source": [
    "if seg_method == 0:\n",
    "    record_seg = node_op.mt_record_seg(segments, ignore_1, index_dict, inv_node_dict, MINIMAL_REPEAT)"
   ]
  },
  {
   "cell_type": "code",
   "execution_count": 11,
   "metadata": {},
   "outputs": [],
   "source": [
    "if seg_method == 1:\n",
    "    segments, record_seg = node_op.segment_top(whole_string, ignore_1, index_dict, inv_node_dict, MINIMAL_REPEAT)\n",
    "    max_len = []\n",
    "    all_seqs = []\n",
    "    for seg_idx in range(len(record_seg)):\n",
    "        max_len.append(0)\n",
    "        seqs = []\n",
    "        pos = node_op.find_all_indexes(segments[record_seg[seg_idx][0]], record_seg[seg_idx][1])\n",
    "        for idx in range(len(pos)):\n",
    "            if idx+1 != len(pos):\n",
    "                seqs.append(segments[record_seg[seg_idx][0]][pos[idx]:pos[idx+1]])\n",
    "                if len(segments[record_seg[seg_idx][0]][pos[idx]:pos[idx+1]]) > max_len[seg_idx]:\n",
    "                    max_len[seg_idx] = len(segments[record_seg[seg_idx][0]][pos[idx]:pos[idx+1]])\n",
    "            else:\n",
    "                seqs.append(segments[record_seg[seg_idx][0]][pos[idx]:pos[idx]+max_len[seg_idx]+4])\n",
    "        all_seqs.append(seqs)\n",
    "    #print(all_seqs)"
   ]
  },
  {
   "cell_type": "markdown",
   "metadata": {},
   "source": [
    "# Whole String split by top repeats"
   ]
  },
  {
   "cell_type": "code",
   "execution_count": 12,
   "metadata": {},
   "outputs": [],
   "source": [
    "if seg_method == 0:\n",
    "    max_len = []\n",
    "    all_seqs = []\n",
    "    for seg_idx in range(len(record_seg)):\n",
    "        max_len.append(0)\n",
    "        seqs = []\n",
    "        pos = node_op.find_all_indexes(segments[record_seg[seg_idx][0]], record_seg[seg_idx][1])\n",
    "        for idx in range(len(pos)):\n",
    "            if idx+1 != len(pos):\n",
    "                seqs.append(segments[record_seg[seg_idx][0]][pos[idx]:pos[idx+1]])\n",
    "                if len(segments[record_seg[seg_idx][0]][pos[idx]:pos[idx+1]]) > max_len[seg_idx]:\n",
    "                    max_len[seg_idx] = len(segments[record_seg[seg_idx][0]][pos[idx]:pos[idx+1]])\n",
    "            else:\n",
    "                seqs.append(segments[record_seg[seg_idx][0]][pos[idx]:pos[idx]+max_len[seg_idx]+4])\n",
    "        all_seqs.append(seqs)\n",
    "    print(all_seqs)"
   ]
  },
  {
   "cell_type": "markdown",
   "metadata": {},
   "source": [
    "# MSA"
   ]
  },
  {
   "cell_type": "code",
   "execution_count": 13,
   "metadata": {
    "scrolled": true
   },
   "outputs": [],
   "source": [
    "import cstar\n",
    "removed_whole_string = whole_string\n",
    "for seg_idx in range(len(all_seqs)):\n",
    "    json_result = []\n",
    "    #print(\"First round MSA\\n\", \"=\"*100)\n",
    "    scores = [1, 0, -1] # matchScore, mismatchScore, gapScore\n",
    "    if len(all_seqs[seg_idx][:-1]) == 1:\n",
    "        msa = all_seqs[seg_idx][:-1]\n",
    "    else:\n",
    "        msa = cstar.CenterStar(scores, all_seqs[seg_idx][:-1]).msa()\n",
    "    trans_dict = {}\n",
    "    last_c = '-'\n",
    "    end_idx = 0\n",
    "\n",
    "    for i in range(len(msa)):\n",
    "        if msa[i][-1] != '-' and last_c not in trans_dict.keys() and drop_last == 0:\n",
    "            last_c = msa[i][-1]\n",
    "            trans_dict[last_c] = msa[i].replace('-', '')\n",
    "        if msa[i].replace('-', '') not in trans_dict.keys():\n",
    "            trans_dict[msa[i].replace('-', '')] = msa[i]\n",
    "        else: pass\n",
    "    #for i in all_seqs[seg_idx][:-1]: print(i, \"\\n\\t\\t-> \", trans_dict[i])\n",
    "    if drop_last == 0:\n",
    "        #print('='*100, \"\\nSecond round MSA\\n\")\n",
    "        msa_2 = cstar.CenterStar(scores, msa+[all_seqs[seg_idx][-1]]).msa()\n",
    "        trans_dict_2 = {}\n",
    "\n",
    "        for i in range(len(msa_2)):\n",
    "            if msa_2[i].replace('-', '') not in trans_dict_2.keys():\n",
    "                trans_dict_2[msa_2[i].replace('-', '')] = msa_2[i]\n",
    "            else: pass\n",
    "        for idx in range(len(trans_dict_2[trans_dict[last_c]])):\n",
    "            if trans_dict_2[trans_dict[last_c]][idx] == last_c:\n",
    "                end_idx = idx\n",
    "        for i in all_seqs[seg_idx]:\n",
    "            trans_dict_2[i] = trans_dict_2[i][:end_idx+1]\n",
    "            tmp = trans_dict_2[i][:end_idx+1].replace('-', '')\n",
    "            removed_whole_string = removed_whole_string.replace(tmp, '-'*len(tmp))\n",
    "            #print(i, \"\\n\\t\\t-> \", trans_dict_2[i])\n",
    "\n",
    "        json_schema = [{} for i in range(len(trans_dict_2[list(trans_dict_2.keys())[0]]))]\n",
    "        schema_check = [0 for i in range(len(trans_dict_2[list(trans_dict_2.keys())[0]]))]\n",
    "    else:\n",
    "        json_schema = [{} for i in range(len(trans_dict[list(trans_dict.keys())[0]]))]\n",
    "        schema_check = [0 for i in range(len(trans_dict[list(trans_dict.keys())[0]]))]\n",
    "\n",
    "    with open(os.path.join(current_path, \"Output\", \"Set-\" + str(seg_idx) + \".txt\"), 'w', encoding='utf-8') as file:\n",
    "        for page in range(len(others)):\n",
    "            json_page = []\n",
    "            output_dict = {} # Record which pattern is used\n",
    "            if drop_last == 1:\n",
    "                length = len(all_seqs[seg_idx]) - 1\n",
    "            else:\n",
    "                length = len(all_seqs[seg_idx])\n",
    "            for s in range(length):\n",
    "                json_set = []\n",
    "                file.write(str(page) + \"-\" + str(seg_idx) + \"-\" + str(s) + \"\\t\")\n",
    "                tmp = node_op.find_all_indexes(whole_string, all_seqs[seg_idx][s])\n",
    "                if all_seqs[seg_idx][s] not in output_dict.keys():\n",
    "                    output_dict[all_seqs[seg_idx][s]] = 0\n",
    "                else:\n",
    "                    output_dict[all_seqs[seg_idx][s]] += 1\n",
    "                #print(\"start:\", tmp[output_dict[seqs[s]]], others[page][tmp[output_dict[seqs[s]]]])\n",
    "                idx = 0\n",
    "                if drop_last == 0:\n",
    "                    for c in range(len(trans_dict_2[all_seqs[seg_idx][s]])):\n",
    "                        if trans_dict_2[all_seqs[seg_idx][s]][c] == '-':\n",
    "                            file.write('\\t')\n",
    "                            json_set.append('')\n",
    "                        else:\n",
    "                            file.write(others[page][tmp[output_dict[all_seqs[seg_idx][s]]]+idx][:others[page][tmp[output_dict[all_seqs[seg_idx][s]]]+idx].find(\" ::\")] + \"\\t\")\n",
    "                            json_set.append(others[page][tmp[output_dict[all_seqs[seg_idx][s]]]+idx][:others[page][tmp[output_dict[all_seqs[seg_idx][s]]]+idx].find(\" ::\")])\n",
    "                            if schema_check[c] == 0:\n",
    "                                schema_check[c] = 1\n",
    "                                json_schema[c][\"PathId\"] = pathid[tmp[output_dict[all_seqs[seg_idx][s]]]+idx]\n",
    "                                json_schema[c][\"ParentId\"] = parentid[tmp[output_dict[all_seqs[seg_idx][s]]]+idx].split(':')[0].replace('\\\"', '')\n",
    "                                if encoding[tmp[output_dict[all_seqs[seg_idx][s]]]+idx] == ' ':\n",
    "                                    json_schema[c][\"Encoding\"] = ''\n",
    "                                else:\n",
    "                                    json_schema[c][\"Encoding\"] = int(encoding[tmp[output_dict[all_seqs[seg_idx][s]]]+idx])\n",
    "                                json_schema[c][\"CECId\"] = cecid[tmp[output_dict[all_seqs[seg_idx][s]]]+idx]\n",
    "                                json_schema[c][\"TECId\"] = tecid[tmp[output_dict[all_seqs[seg_idx][s]]]+idx]\n",
    "                                json_schema[c][\"ColType\"] = col[tmp[output_dict[all_seqs[seg_idx][s]]]+idx]\n",
    "                            idx += 1\n",
    "                else:\n",
    "                    for c in range(len(trans_dict[all_seqs[seg_idx][s]])):\n",
    "                        if trans_dict[all_seqs[seg_idx][s]][c] == '-':\n",
    "                            file.write('\\t')\n",
    "                            json_set.append('')\n",
    "                        else:\n",
    "                            file.write(others[page][tmp[output_dict[all_seqs[seg_idx][s]]]+idx][:others[page][tmp[output_dict[all_seqs[seg_idx][s]]]+idx].find(\" ::\")] + \"\\t\")\n",
    "                            json_set.append(others[page][tmp[output_dict[all_seqs[seg_idx][s]]]+idx][:others[page][tmp[output_dict[all_seqs[seg_idx][s]]]+idx].find(\" ::\")])\n",
    "                            if schema_check[c] == 0:\n",
    "                                schema_check[c] = 1\n",
    "                                json_schema[c][\"PathId\"] = pathid[tmp[output_dict[all_seqs[seg_idx][s]]]+idx]\n",
    "                                json_schema[c][\"ParentId\"] = parentid[tmp[output_dict[all_seqs[seg_idx][s]]]+idx].split(':')[0].replace('\\\"', '')\n",
    "                                if encoding[tmp[output_dict[all_seqs[seg_idx][s]]]+idx] == ' ':\n",
    "                                    json_schema[c][\"Encoding\"] = ''\n",
    "                                else:\n",
    "                                    json_schema[c][\"Encoding\"] = int(encoding[tmp[output_dict[all_seqs[seg_idx][s]]]+idx])\n",
    "                                json_schema[c][\"CECId\"] = cecid[tmp[output_dict[all_seqs[seg_idx][s]]]+idx]\n",
    "                                json_schema[c][\"TECId\"] = tecid[tmp[output_dict[all_seqs[seg_idx][s]]]+idx]\n",
    "                                json_schema[c][\"ColType\"] = col[tmp[output_dict[all_seqs[seg_idx][s]]]+idx]\n",
    "                            idx += 1\n",
    "                json_page.append(json_set)\n",
    "                file.write('\\n')\n",
    "            json_result.append(json_page)\n",
    "    with open(os.path.join(current_path, \"Output\", \"Set-\" + str(seg_idx) + \"_schema.json\"), 'w') as json_file:\n",
    "        json.dump(json_result, json_file)\n",
    "    with open(os.path.join(current_path, \"Output\", \"Set-\" + str(seg_idx) + \"_schema.json\"), 'w') as json_file:\n",
    "        json.dump(json_schema, json_file)"
   ]
  },
  {
   "cell_type": "markdown",
   "metadata": {},
   "source": [
    "# Modified TableA Output"
   ]
  },
  {
   "cell_type": "code",
   "execution_count": 14,
   "metadata": {},
   "outputs": [],
   "source": [
    "json_table = []\n",
    "json_schema = []\n",
    "for page in range(len(others)):\n",
    "    json_page = []\n",
    "    set_count = 0\n",
    "    check = False\n",
    "    for node in range(len(removed_whole_string)):\n",
    "        schema_dict = {}\n",
    "        if removed_whole_string[node] == '-':\n",
    "            if check == False:\n",
    "                check = True\n",
    "                set_count += 1\n",
    "                json_page.append(str(set_count) + '-' + str(page))\n",
    "                schema_dict[\"PathId\"] = \"\"\n",
    "                schema_dict[\"ParentId\"] = \"\"\n",
    "                schema_dict[\"Encoding\"] = -1\n",
    "                schema_dict[\"CECId\"] = \"\"\n",
    "                schema_dict[\"TECId\"] = \"\"\n",
    "                schema_dict[\"ColType\"] = \"MR\"\n",
    "                json_schema.append(schema_dict)\n",
    "            else: pass\n",
    "        else:\n",
    "            if check == True:\n",
    "                check = False\n",
    "            json_page.append(others[page][node][:others[page][node].find(\" ::\")])\n",
    "            schema_dict[\"PathId\"] = pathid[node]\n",
    "            schema_dict[\"ParentId\"] = parentid[node].split(':')[0].replace('\\\"', '')\n",
    "            if encoding[node] != ' ':\n",
    "                schema_dict[\"Encoding\"] = int(encoding[node])\n",
    "            else:\n",
    "                schema_dict[\"Encoding\"] = ''\n",
    "            schema_dict[\"CECId\"] = cecid[node]\n",
    "            schema_dict[\"TECId\"] = tecid[node]\n",
    "            schema_dict[\"ColType\"] = col[node]\n",
    "            json_schema.append(schema_dict)\n",
    "    json_table.append(json_page)\n",
    "with open(os.path.join(current_path, \"Output\", \"TableA.json\"), 'w') as json_file:\n",
    "    json.dump(json_table, json_file)\n",
    "with open(os.path.join(current_path, \"Output\", \"SchemaTableA.json\"), 'w') as json_file:\n",
    "    json.dump(json_schema, json_file)"
   ]
  },
  {
   "cell_type": "markdown",
   "metadata": {},
   "source": [
    "# ==============================="
   ]
  },
  {
   "cell_type": "code",
   "execution_count": 15,
   "metadata": {},
   "outputs": [
    {
     "name": "stdout",
     "output_type": "stream",
     "text": [
      "1 Set\n",
      "BEST:  {'score': 2, 'option': '000101001', 'Length': 2, 'Set count': 1}\n"
     ]
    }
   ],
   "source": [
    "print(len(all_seqs), \"Set\\nBEST: \", best)"
   ]
  },
  {
   "cell_type": "code",
   "execution_count": 16,
   "metadata": {},
   "outputs": [],
   "source": [
    "with open('./good_encode.txt', 'rb') as f:\n",
    "    candidate = pickle.load(f)\n",
    "if best['option'] not in candidate:\n",
    "    with open('./good_encode.txt', 'wb') as f:\n",
    "        candidate.append(best['option'])\n",
    "        print(\"Append:\", best['option'])\n",
    "        pickle.dump(candidate, f)"
   ]
  },
  {
   "cell_type": "code",
   "execution_count": 17,
   "metadata": {
    "scrolled": true
   },
   "outputs": [
    {
     "data": {
      "text/plain": [
       "['000110100', '000101010', '000101001']"
      ]
     },
     "execution_count": 17,
     "metadata": {},
     "output_type": "execute_result"
    }
   ],
   "source": [
    "candidate"
   ]
  },
  {
   "cell_type": "code",
   "execution_count": null,
   "metadata": {},
   "outputs": [],
   "source": []
  }
 ],
 "metadata": {
  "kernelspec": {
   "display_name": "Python 3",
   "language": "python",
   "name": "python3"
  },
  "language_info": {
   "codemirror_mode": {
    "name": "ipython",
    "version": 3
   },
   "file_extension": ".py",
   "mimetype": "text/x-python",
   "name": "python",
   "nbconvert_exporter": "python",
   "pygments_lexer": "ipython3",
   "version": "3.7.4"
  }
 },
 "nbformat": 4,
 "nbformat_minor": 2
}
