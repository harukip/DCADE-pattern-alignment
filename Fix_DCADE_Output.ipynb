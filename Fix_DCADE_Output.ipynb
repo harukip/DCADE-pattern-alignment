{
 "cells": [
  {
   "cell_type": "code",
   "execution_count": 1,
   "metadata": {},
   "outputs": [],
   "source": [
    "from suffix_trees import STree"
   ]
  },
  {
   "cell_type": "code",
   "execution_count": 2,
   "metadata": {},
   "outputs": [],
   "source": [
    "class STreeEx():\n",
    "    def __init__(self, sTree):\n",
    "        # 傳入原套件後綴樹\n",
    "        self.sTree = sTree\n",
    "\n",
    "    def lrs(self):\n",
    "        # 最深非葉節點\n",
    "        deepestNode = self._find_lrs(self.sTree.root)\n",
    "        start = deepestNode.idx\n",
    "        end = deepestNode.idx + deepestNode.depth\n",
    "        return self.sTree.word[start:end]\n",
    "\n",
    "    def _find_lrs(self, node):\n",
    "        nodes = [self._find_lrs(n)\n",
    "            for (n,_) in node.transition_links\n",
    "            # 排除葉節點\n",
    "            if n.transition_links != []]\n",
    "\n",
    "        if nodes == []:\n",
    "            return node\n",
    "        \n",
    "        deepestNode = max(nodes, key=lambda n: n.depth)\n",
    "        return deepestNode"
   ]
  },
  {
   "cell_type": "markdown",
   "metadata": {},
   "source": [
    "# Input File"
   ]
  },
  {
   "cell_type": "code",
   "execution_count": 3,
   "metadata": {},
   "outputs": [],
   "source": [
    "input_file_path = \"./input/TableA.txt\""
   ]
  },
  {
   "cell_type": "code",
   "execution_count": 4,
   "metadata": {
    "scrolled": true
   },
   "outputs": [
    {
     "name": "stdout",
     "output_type": "stream",
     "text": [
      "0,\"1:[1, 2]\",0-2, ,1\n"
     ]
    }
   ],
   "source": [
    "recb_start = 0\n",
    "recb_end = 0\n",
    "pathid = []\n",
    "parentid = []\n",
    "tecid = []\n",
    "cecid = []\n",
    "encoding = []\n",
    "with open(input_file_path) as file:\n",
    "    line = file.readline()\n",
    "    while(line):\n",
    "        line = file.readline()\n",
    "        tmp = line.split('\\t')\n",
    "        if tmp[0] == \"RecB\":\n",
    "            tmp = tmp[1:]\n",
    "            for index in range(len(tmp)):\n",
    "                if tmp[index] == \"SDR\":\n",
    "                    recb_start = index\n",
    "                elif tmp[index] == \"EDR\":\n",
    "                    recb_end = index\n",
    "        elif tmp[0] == \"PathId\":\n",
    "            pathid = tmp[1:]\n",
    "        elif tmp[0] == \"ParentId\":\n",
    "            parentid = tmp[1:]\n",
    "        elif tmp[0] == \"TECId\":\n",
    "            tecid = tmp[1:]\n",
    "        elif tmp[0] == \"CECId\":\n",
    "            cecid = tmp[1:]\n",
    "        elif tmp[0] == \"Encoding\":\n",
    "            encoding = tmp[1:]\n",
    "print(pathid[0] + \",\" + parentid[0] + \",\" + tecid[0] + \",\" + cecid[0] + \",\" + encoding[0])"
   ]
  },
  {
   "cell_type": "markdown",
   "metadata": {},
   "source": [
    "# Translate node in to ascii code for suffix tree"
   ]
  },
  {
   "cell_type": "code",
   "execution_count": 11,
   "metadata": {},
   "outputs": [
    {
     "name": "stdout",
     "output_type": "stream",
     "text": [
      "Convert to ascii String:\n",
      " \u0000\u0001\u0002\u0003\u0004\u0005\u0006\u0007\b\t\n",
      "\u000b",
      "\f",
      "\r",
      "\f",
      "\u000e\u000f\u0010\u0011\u0012\u0013\u0014\u0015\u0016\u0017\u0018\u0019\u001a\u001b\u001c",
      "\u001d",
      "\u001e",
      "\u001f \u001f!\u001f\"\u001f#\u001f$\u001f%\u001d",
      "&\u001f'\u001f(\u001f)\u001f*\u001f\u001c",
      "\u001d",
      "\u001e",
      "\u001f \u001f!\u001f\"\u001f#\u001f$\u001f%\u001d",
      "&\u001f'\u001f(\u001f)\u001f*\u001f+,-.-/-0-1-2-3-4-5-6-7-8-9-:-;-<-=->-?-@-A-B-C-D-E-F-G-H-IJKLMNOPQRSIJKTUVPQRWIJKTMNOPQRWIJKTXNOPQRSIJKTXNYPQRWIJKTXNOPQRWIJKLXNOPQRWIJKTXNOPQRWIJKTUZPQRSIJKT[NOPQRSIJKT[NYPQRWIJK\\[OPQRW]^_^`^a^b^cdefghijklmnopqrstuvwxyz{|}~\n"
     ]
    }
   ],
   "source": [
    "whole_string = \"\"\n",
    "node_dict = {}\n",
    "index = 0\n",
    "for node in range(len(pathid)):\n",
    "    code = pathid[node] + \",\" + parentid[node] + \",\" + tecid[node] + \",\" + cecid[node] + \",\" + encoding[node]\n",
    "    if code not in node_dict.keys():\n",
    "        node_dict[code] = index\n",
    "        whole_string += chr(index)\n",
    "        index += 1\n",
    "    else:\n",
    "        whole_string += chr(node_dict[code])\n",
    "print(\"Convert to ascii String:\\n\", whole_string)"
   ]
  },
  {
   "cell_type": "markdown",
   "metadata": {},
   "source": [
    "# Find longest repeat pattern"
   ]
  },
  {
   "cell_type": "code",
   "execution_count": 6,
   "metadata": {},
   "outputs": [
    {
     "name": "stdout",
     "output_type": "stream",
     "text": [
      "Length:  26\n",
      "\u001c",
      "\u001d",
      "\u001e",
      "\u001f \u001f!\u001f\"\u001f#\u001f$\u001f%\u001d",
      "&\u001f'\u001f(\u001f)\u001f*\u001f\n"
     ]
    }
   ],
   "source": [
    "st = STree.STree(whole_string)\n",
    "st = STreeEx(st)\n",
    "answer = str(st.lrs())\n",
    "print(\"Length: \", len(answer))\n",
    "print(answer)"
   ]
  },
  {
   "cell_type": "code",
   "execution_count": 12,
   "metadata": {},
   "outputs": [
    {
     "name": "stdout",
     "output_type": "stream",
     "text": [
      "Repeat pattern codes:\n",
      "\n",
      "6,5:[1],10-6,6-30,0\n",
      "6,5:[1],11-8,6-19,0\n",
      "6,5:[1],12-6,6-31,0\n",
      "6,5:[1],13-8,6-19,0\n",
      "6,5:[1],12-9,6-32,0\n",
      "6,5:[1],13-8,6-19,0\n",
      "6,5:[1],12-15,6-33,0\n",
      "6,5:[1],13-8,6-19,0\n",
      "6,5:[1],12-15,6-34,0\n",
      "6,5:[1],13-8,6-19,0\n",
      "6,5:[1],12-15,6-35,0\n",
      "6,5:[1],13-8,6-19,0\n",
      "6,\"1:[1, 2]\",12-16,6-36,0\n",
      "6,5:[1],13-8,6-19,0\n",
      "6,5:[1],10-9,6-37,0\n",
      "6,5:[1],11-8,6-19,0\n",
      "6,5:[1],12-6,6-38,0\n",
      "6,5:[1],13-8,6-19,0\n",
      "6,5:[1],12-9,6-39,0\n",
      "6,5:[1],13-8,6-19,0\n",
      "6,5:[1],12-6,6-40,0\n",
      "6,5:[1],13-8,6-19,0\n",
      "6,5:[1],12-6,6-41,0\n",
      "6,5:[1],13-8,6-19,0\n",
      "6,5:[1],12-6,6-42,0\n",
      "6,5:[1],13-8,6-19,0\n"
     ]
    }
   ],
   "source": [
    "inv_node_dict = {v: k for k, v in node_dict.items()}\n",
    "print(\"Repeat pattern codes:\\n\")\n",
    "for node in answer:\n",
    "    print(inv_node_dict[ord(node)])"
   ]
  },
  {
   "cell_type": "markdown",
   "metadata": {},
   "source": [
    "# Cut String from SRD to ERD"
   ]
  },
  {
   "cell_type": "code",
   "execution_count": 8,
   "metadata": {},
   "outputs": [
    {
     "name": "stdout",
     "output_type": "stream",
     "text": [
      "Desire String:\n",
      " IJKLMNOPQRSIJKTUVPQRWIJKTMNOPQRWIJKTXNOPQRSIJKTXNYPQRWIJKTXNOPQRWIJKLXNOPQRWIJKTXNOPQRWIJKTUZPQRSIJKT[NOPQRSIJKT[NYPQRWIJK\\[OPQRW]^\n"
     ]
    }
   ],
   "source": [
    "rec_string = whole_string[recb_start:recb_end+1]\n",
    "print(\"Desire String:\\n\", rec_string)"
   ]
  },
  {
   "cell_type": "code",
   "execution_count": 9,
   "metadata": {},
   "outputs": [
    {
     "name": "stdout",
     "output_type": "stream",
     "text": [
      "Length:  18\n",
      "PQRWIJKTXNOPQRWIJK\n"
     ]
    }
   ],
   "source": [
    "st2 = STree.STree(rec_string)\n",
    "st2 = STreeEx(st2)\n",
    "rec_answer = str(st2.lrs())\n",
    "print(\"Length: \", len(rec_answer))\n",
    "print(rec_answer)"
   ]
  },
  {
   "cell_type": "code",
   "execution_count": 10,
   "metadata": {
    "scrolled": true
   },
   "outputs": [
    {
     "name": "stdout",
     "output_type": "stream",
     "text": [
      "6,5:[1],24-8,6-79,0\n",
      "6,5:[1],24-9, ,1\n",
      "6,5:[1],24-8,6-81,0\n",
      "6,5:[1],23-9, ,1\n",
      "6,3:[4],17-4, ,1\n",
      "6,3:[4],18-4, ,1\n",
      "6,5:[1],19-9, ,1\n",
      "7,5:[1],20-5, ,2\n",
      "7,5:[1],21-5, ,2\n",
      "7,\"1:[1, 2]\",22-18, ,1\n",
      "6,5:[1],23-0, ,3\n",
      "6,5:[1],24-8,6-79,0\n",
      "6,5:[1],24-9, ,1\n",
      "6,5:[1],24-8,6-81,0\n",
      "6,5:[1],23-9, ,1\n",
      "6,3:[4],17-4, ,1\n",
      "6,3:[4],18-4, ,1\n",
      "6,5:[1],19-9, ,1\n"
     ]
    }
   ],
   "source": [
    "for node in rec_answer:\n",
    "    print(inv_node_dict[ord(node)])"
   ]
  },
  {
   "cell_type": "code",
   "execution_count": null,
   "metadata": {},
   "outputs": [],
   "source": []
  }
 ],
 "metadata": {
  "kernelspec": {
   "display_name": "Python 3",
   "language": "python",
   "name": "python3"
  },
  "language_info": {
   "codemirror_mode": {
    "name": "ipython",
    "version": 3
   },
   "file_extension": ".py",
   "mimetype": "text/x-python",
   "name": "python",
   "nbconvert_exporter": "python",
   "pygments_lexer": "ipython3",
   "version": "3.7.4"
  }
 },
 "nbformat": 4,
 "nbformat_minor": 2
}
