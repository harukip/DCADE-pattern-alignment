{
 "cells": [
  {
   "cell_type": "code",
   "execution_count": 22,
   "metadata": {},
   "outputs": [],
   "source": [
    "import suffix_tree\n",
    "import pandas as pd\n",
    "import os\n",
    "import json\n",
    "import pickle\n",
    "from read_file import read_file\n",
    "import node_op\n",
    "import sys\n",
    "from sklearn.metrics.pairwise import cosine_similarity\n",
    "import numpy as np"
   ]
  },
  {
   "cell_type": "code",
   "execution_count": 2,
   "metadata": {},
   "outputs": [
    {
     "data": {
      "text/plain": [
       "\"\\nVariable: find_encode\\n- 0: Use specified encode\\n- 1: Choose from candidate\\n--------------------------\\nVariable: brute (Loop all combination)\\n- 0: Don't loop\\n- 1: loop\\n--------------------------\\nVariable: drop_last (Last pattern handling)\\n- 0: handle it\\n- 1: Only do once MSA\\n--------------------------\\nVariable: seg_method (Segmentation method)\\n- 0: Unique MT\\n- 1: Split by top repeat\\n--------------------------\\nVariable: ignore_len (ignore maximal repeat <= len)\\n- 0: Off\\n- 1: On\\n--------------------------\\nVariable: MINIMAL_REPEAT (Minimal repeat count)\\n\""
      ]
     },
     "execution_count": 2,
     "metadata": {},
     "output_type": "execute_result"
    }
   ],
   "source": [
    "find_encode = 1\n",
    "brute = 1\n",
    "drop_last = 1\n",
    "seg_method = 1\n",
    "ignore_len = 0\n",
    "MINIMAL_REPEAT = 0\n",
    "\"\"\"\n",
    "Variable: find_encode\n",
    "- 0: Use specified encode\n",
    "- 1: Choose from candidate\n",
    "--------------------------\n",
    "Variable: brute (Loop all combination)\n",
    "- 0: Don't loop\n",
    "- 1: loop\n",
    "--------------------------\n",
    "Variable: drop_last (Last pattern handling)\n",
    "- 0: handle it\n",
    "- 1: Only do once MSA\n",
    "--------------------------\n",
    "Variable: seg_method (Segmentation method)\n",
    "- 0: Unique MT\n",
    "- 1: Split by top repeat\n",
    "--------------------------\n",
    "Variable: ignore_len (ignore maximal repeat <= len)\n",
    "- 0: Off\n",
    "- 1: On\n",
    "--------------------------\n",
    "Variable: MINIMAL_REPEAT (Minimal repeat count)\n",
    "\"\"\""
   ]
  },
  {
   "cell_type": "code",
   "execution_count": 3,
   "metadata": {},
   "outputs": [],
   "source": [
    "def binary(string, length):\n",
    "    while len(string) != length:\n",
    "        string = '0' + string\n",
    "    return string\n",
    "\n",
    "sys.setrecursionlimit(1000000)"
   ]
  },
  {
   "cell_type": "markdown",
   "metadata": {},
   "source": [
    "# Input File"
   ]
  },
  {
   "cell_type": "code",
   "execution_count": 4,
   "metadata": {},
   "outputs": [
    {
     "name": "stdout",
     "output_type": "stream",
     "text": [
      "C:\\Users\\rick\\Desktop\\test\\2\\Output\\TXT\\TableA.txt\n"
     ]
    }
   ],
   "source": [
    "#current_path = os.path.join(os.path.expanduser(\"~\"), \"jupyter\", \"Fix_DCADE_Output\")\n",
    "#current_path = os.path.join(os.path.expanduser(\"~\"), \"Desktop\", \"DCADE\", \"TAM\")\n",
    "#current_path = os.path.join(os.path.expanduser(\"~\"), \"Desktop\", \"test\", \"1\")\n",
    "current_path = os.path.join(os.path.expanduser(\"~\"), \"Desktop\", \"test\", \"2\")\n",
    "#current_path = os.path.join(os.path.expanduser(\"~\"), \"Desktop\", \"DCADE\", \"RISE_\", \"R01\")\n",
    "input_file_path = os.path.join(current_path, \"Output\", \"TXT\", \"TableA.txt\")\n",
    "print(input_file_path)"
   ]
  },
  {
   "cell_type": "code",
   "execution_count": 5,
   "metadata": {
    "scrolled": true
   },
   "outputs": [],
   "source": [
    "f = read_file(input_file_path)\n",
    "content = f[0]\n",
    "recb_start = f[1]\n",
    "recb_end = f[2]\n",
    "tag = f[3]\n",
    "ids = f[4]\n",
    "classes = f[5]\n",
    "pathid = f[6]\n",
    "parentid = f[7]\n",
    "tecid = f[8]\n",
    "cecid = f[9]\n",
    "encoding = f[10]\n",
    "col = f[11]\n",
    "others = f[12]"
   ]
  },
  {
   "cell_type": "code",
   "execution_count": 6,
   "metadata": {},
   "outputs": [
    {
     "name": "stdout",
     "output_type": "stream",
     "text": [
      "Unique MT's index:\n",
      " [0, 2, 16, 27, 28, 29, 125, 135, 157, 306, 357, 366, 386, 423, 424, 433, 497, 507, 513, 515, 534, 543, 552, 555, 569, 574, 576, 604, 624, 628, 629, 636, 637, 639, 640, 644, 657]\n"
     ]
    }
   ],
   "source": [
    "tec_dict = {}\n",
    "unique_mt = []\n",
    "for node in range(len(col)):\n",
    "    if col[node] == 'MT':\n",
    "        if tecid[node] not in tec_dict.keys():\n",
    "            tec_dict[tecid[node]] = [node]\n",
    "        else:\n",
    "            tec_dict[tecid[node]].append(node)\n",
    "for key in tec_dict.keys():\n",
    "    if len(tec_dict[key]) == 1:\n",
    "        unique_mt += tec_dict[key]\n",
    "print(\"Unique MT's index:\\n\", unique_mt)"
   ]
  },
  {
   "cell_type": "markdown",
   "metadata": {},
   "source": [
    "# Translate node in to unicode for suffix tree"
   ]
  },
  {
   "cell_type": "markdown",
   "metadata": {},
   "source": [
    "Change `encode_option` to use different attribute to encode leafnodes.\n",
    "<br><br>\n",
    "Leafnodes will have same encoding if they have same attribute."
   ]
  },
  {
   "cell_type": "code",
   "execution_count": 20,
   "metadata": {
    "scrolled": false
   },
   "outputs": [
    {
     "name": "stdout",
     "output_type": "stream",
     "text": [
      "================================================================================ \n",
      "Progress: 0 %\t 1 / 466\n",
      "================================================================================\n",
      "000000111\n",
      "0 (8, 'ġ') \t0.15\n",
      "1 (4, 'w') \t0.00\n",
      "2 (2, 'ƨ') \t1.00\n",
      "3 (2, 'ȃȄ') \t1.00\n",
      "[['ġ', 'ġĢģ\\x7fĤ\\x81ĥ\\x83Ħ\\x85ħ\\x87Ĩ\\x89ĩ\\x8bĪ\\x8dīĬ\\x8f\\x90ĭ', 'ġ', 'ġĮį\\x91İ\\x93ı\\x95Ĳ\\x97ĳ\\x99Ĵ\\x9bĵ\\x9dĶ\\x9fķ¡ĸĹ£¤ĺĻļĽĻľ', 'ġ', 'ġĿŀ¥Ł§ł©Ń«ń\\xadŅ¯ņ±Ňň³´ŉĻŊŋŌ±ō\\x9fŎ¡ŏ¸Ő¼őŒºœŔ¾¿ŕĻŖŗÀŘÂřÄŚśÆÇŜĻŝŞşÈŠÊšŢÌţÎŤÐťÒŦÔŧÖŨØũÚŪÜūÞŬàŭâŮäůæŰèűêŲìųîŴðŵŶòŷôŸöŹøźŻúûżŽžĻſƀ¼ƁƂýþƃ', 'ġ', 'ġƄƅÿƆƇāĂăĄąĆćĈĉaĊċČĆčĎďĐđĒēĔĕĆĖėĘęĚěĜĝĞğvƈćƈĉƈĊƈƉƊƋƌƉƉƊƋƌƍƎƏƎƐƑƒƓƓƔƕƖƗƕƘƙƚƕƛƜƝƞƜƟƠƚƜơƢƣƤƢƥƦƚƢƧƨƩƪƨƫƬƚƨƭƮƯưƮƱƲƚƮƳƴƵƶƴƷƸƚƴƹơƢƤƢƚƢƧƨƪ'], ['wxyz{|', 'w}~\\x7f\\x80\\x81\\x82\\x83\\x84\\x85\\x86\\x87\\x88\\x89\\x8a\\x8b\\x8c\\x8d\\x8e\\x8f\\x90\\x91\\x92\\x93\\x94\\x95\\x96\\x97\\x98\\x99\\x9a\\x9b\\x9c\\x9d\\x9e\\x9f\\xa0¡¢£¤¥¦§¨©ª«¬\\xad®¯°±²³´±µ\\x9f¶¡·¸¹º»¼½¾¿ÀÁÂÃÄÅÆÇÈÉÊËÌÍÎÏÐÑÒÓÔÕÖ×ØÙÚÛÜÝÞßàáâãäåæçèéêëìíîïðñòóôõö÷øùúû¼üýþÿĀāĂăĄąĆćĈĉaĊċČĆčĎďĐđĒēĔĕĆĖėĘęĚěĜĝĞğlmnopqrstuv', 'wxyz{|', 'w}~Ġ'], ['ƨƚ', 'ƨƺƻƼƽƾ'], ['ȃȄȅȆȇȈȉȊȋȌȍȎȏ', 'ȃȄȐ']]\n",
      "Set count: 4 Score: 0.52\n",
      "--------------------------------------------------------------------------------\n",
      "\n",
      "Best Update\n",
      "\n",
      "000001011\n",
      "0 (60, 'W') \t0.24\n",
      "1 (14, 'B') \t0.24\n",
      "2 (60, 'f') \t0.03\n",
      "3 (8, 'R') \t0.23\n",
      "4 (20, 'R') \t0.22\n",
      "5 (22, '\\x9f') \t0.48\n",
      "6 (5, 'L') \t0.50\n",
      "7 (11, '\\x8a') \t0.04\n",
      "8 (10, '²') \t0.25\n",
      "9 (3, 'F') \t1.00\n",
      "10 (8, 'R') \t0.23\n",
      "11 (3, '\\x99') \t0.50\n",
      "12 (2, '¥') \t1.00\n",
      "13 (2, 'z') \t1.00\n",
      "14 (2, '\\x84') \t1.00\n",
      "[['WX', 'WX', 'WX', 'WX', 'WY', 'WY', 'WY', 'WSRZ', 'WZ', 'WV', 'WZ', 'WZ', 'WZ', 'WZ', 'WY', 'WZ', 'WSRZ', 'WZ', 'WZ', 'WZ', 'WZ', 'WZ', 'WY', 'WSRY', 'WY', 'WZ', 'WZ', 'W[', 'WZ', 'WSRY', 'WY', 'W\\\\', 'WURZ', 'WZ', 'W]', 'W]', 'W]', 'WZ', 'WZ', 'W]', 'WZ', 'W^', 'W]', 'W]', 'WZ', 'W]', 'W]', 'WZ', 'WZ', 'WZ', 'W]', 'WZ', 'WZ', 'W]', 'W]', 'W]', 'W]', 'WSRZ', 'WSRZ', 'WURTRNOS'], ['BC', 'B', 'B', 'B', 'B', 'B', 'B', 'B', 'B', 'B', 'B', 'B', 'B', 'BDEFGF'], ['fg', 'fg', 'fg', 'fg', 'fh', 'fh', 'fh', 'fdSRibbjdk', 'fk', 'fe', 'fk', 'fk', 'fk', 'fk', 'fh', 'fk', 'fdSRilmmlnbbjdk', 'fk', 'fk', 'fk', 'fk', 'fk', 'fh', 'fdSRaljdoh', 'fh', 'fk', 'fk', 'fk', 'fop', 'fdSRiljdh', 'fh', 'fq', 'fdURilcdrk', 'fk', 'fps', 'fs', 'fs', 'fk', 'fk', 'fs', 'fk', 'ft', 'fs', 'fs', 'fk', 'fs', 'fs', 'fk', 'fk', 'fk', 'fs', 'fk', 'fk', 'fps', 'fs', 'fs', 'fs', 'fdSRjuvljdk', 'fdSRwbbjdk', 'fdURTRNOSRSRSRNO_RS'], ['RS', 'RT', 'RS', 'RNPS', 'RS', 'RS', 'RU', 'RV'], ['RS', 'RS', 'RNO_', 'RS', 'RS', 'RS', 'RNOS', 'RS', 'RS', 'R`', 'RS', 'RNPQ', 'RS', 'RT', 'RS', 'RNPS', 'RS', 'RS', 'RU', 'Rabbcde'], ['\\x9f\\xa0', '\\x9f\\xa0', '\\x9f\\xa0', '\\x9f\\x9d\\xa0', '\\x9f¡', '\\x9f\\xa0', '\\x9f\\xa0', '\\x9f\\xa0', '\\x9f\\xa0', '\\x9f¡', '\\x9f\\xa0', '\\x9f\\xa0', '\\x9f\\x9d¢', '\\x9f\\xa0', '\\x9f\\xa0', '\\x9f\\xa0', '\\x9f\\x9d\\xa0', '\\x9f\\xa0', '\\x9f\\xa0', '\\x9f£', '\\x9f\\xa0', '\\x9f\\x9d¤¥¦¦§'], ['LM', 'LK', 'LM', 'LM', 'LNONPQ'], ['\\x8a\\x8b\\x8c', '\\x8a\\x8d\\x8e\\x8f\\x88\\x89', '\\x8a\\x90\\x8c\\x91\\x92\\x8e\\x8f\\x88\\x89', '\\x8a\\x93\\x8c', '\\x8a\\x92\\x8e\\x8f\\x88\\x89', '\\x8a\\x94\\x8c', '\\x8a\\x95\\x8e\\x8f\\x88\\x89', '\\x8a\\x93\\x8c', '\\x8a\\x96\\x8e\\x8f\\x88\\x89', '\\x8a\\x8b\\x8c', '\\x8a\\x97\\x8e\\x8f\\x98\\x88\\x89\\x93\\x8c\\x8e\\x8f\\x88\\x89'], ['²', '²', '²', '²', '²', '²', '²', '²', '²', '²¯°³'], ['FG', 'FG', 'FHIJKK'], ['RS', 'RS', 'RNOS', 'RS', 'RS', 'R`', 'RS', 'Rxyxyxyx'], ['\\x99\\x9a', '\\x99\\x9b', '\\x99\\x9b\\x9c\\x9d\\x9e'], ['¥£', '¥©©ª«¬'], ['z{|}', 'z~\\x7f\\x80\\x81\\x82\\x83\\x82'], ['\\x84\\x85', '\\x84\\x86\\x87\\x88\\x89']]\n",
      "Set count: 15 Score: 0.43\n",
      "--------------------------------------------------------------------------------\n",
      "000001101\n",
      "0 (8, 'ģ') \t0.15\n",
      "1 (3, 'ć') \t0.06\n",
      "2 (2, 'ɓɔ') \t1.00\n",
      "3 (2, '\\xa0') \t0.92\n",
      "[['ģ', 'ģĤĥĦħĨĩĪīĬĭĮįİıĲĳĴĵĶ\\x90\\x91ķ', 'ģ', 'ģĸĹĺĻļĽľĿŀŁłŃńŅņŇňŉŊŋŌ¤¥ōŎŏŐŎő', 'ģ', 'ģŒœŔŕŖŗŘřŚśŜŝŞşŠšŢ´µţŎŤťŦŠŧňŨŊũŪūŬŭŮůŰű¿ÀŲŎųŴŵŶŷŸŹźŻÇÈżŎŽžſƀƁƂƃƄƅƆƇƈƉƊƋƌƍƎƏƐƑƒƓƔƕƖƗƘƙƚƛƜƝƞƟƠơƢƣƤƥƦƧƨƩƪƫƬƭƮƯưƱƲƳƴûüƵƶƷŎƸƹŬƺƻþÿƼ', 'ģ', 'ģƽƾƿǀǁĂăĄąĆćĈĉĊċČčĎćďĐđĒēĔĕĖėćĘęĚěĜĝĞğĠġǂǃǄǃǅǃǆǃǇǈǉǊǇǋǌǍǎǏǐǑǐǒǓǔǕǖǗǘǙǚǛǜǝǞǟǠǡǢǣǤǥǦǞǧǨǩǪǫǬǭǮǞǯǰǱǲǳǴǵǶǞǷǸǹǺǻǼǽǾǞǿȀȁȂȃȄȅȆǞȇȈǨǩǫǬǞǯǰǱǳ'], ['ćĈĉĊċČčĎ', 'ćďĐđĒēĔĕĖė', 'ćĘęĚěĜĝĞğĠġlmn'], ['ɓɔɕɖɗɘəɚɛɜɝɞɟ', 'ɓɔɠ'], ['\\xa0¡¢£¤¥¦§¨©ª«¬\\xad®¯°±²³´µ²¶', '\\xa0·¢¸¹º»¼½¾¿ÀÁÂÃÄÅÆÇÈÉÊËÌÍÎÏÐ']]\n",
      "Set count: 4 Score: 0.54\n",
      "--------------------------------------------------------------------------------\n",
      "\n",
      "Best Update\n",
      "\n",
      "000001110\n",
      "0 (14, 'ģ') \t0.10\n",
      "1 (3, 'ć') \t0.06\n",
      "2 (8, 'ǝ') \t0.04\n",
      "3 (2, '\\xa0') \t0.92\n",
      "4 (2, 'ɒɓ') \t1.00\n",
      "[['ģ', 'ģĤĥĦħĨĩĪīĬĭĮįİıĲĳĴĵĶ\\x90\\x91ķ', 'ģ', 'ģĸĹĺĻļĽľĿŀŁłŃńŅņŇňŉŊŋŌ¤¥ō', 'ģŎŏ', 'ģŐ', 'ģ', 'ģőŒœŔŕŖŗŘřŚśŜŝŞşŠš´µŢ', 'ģţŤťşŦňŧŊŨũŪūŬŭŮůŰ¿Àű', 'ģŲųŴŵŶŷŸŹźÇÈŻ', 'ģżŽžſƀƁƂƃƄƅƆƇƈƉƊƋƌƍƎƏƐƑƒƓƔƕƖƗƘƙƚƛƜƝƞƟƠơƢƣƤƥƦƧƨƩƪƫƬƭƮƯưƱƲƳûüƴƵƶ', 'ģƷƸūƹƺþÿƻ', 'ģ', 'ģƼƽƾƿǀĂăĄąĆćĈĉĊċČčĎćďĐđĒēĔĕĖėćĘęĚěĜĝĞğĠġǁǂǃǂǄǂǅǂǆǇǈǉǆǊǋǌǍǎǏǐǏǑǒǓǔǕ'], ['ćĈĉĊċČčĎ', 'ćďĐđĒēĔĕĖė', 'ćĘęĚěĜĝĞğĠġlmn'], ['ǝǞǟǠǡǢǣǤǥ', 'ǝǦǧǨǩǪǫǬǭ', 'ǝǮǯǰǱǲǳǴǵ', 'ǝǶǷǸǹǺǻǼǽ', 'ǝǾǿȀȁȂȃȄȅ', 'ǝȆȇǧǨǪǫ', 'ǝǮǯǰǲǳ', 'ǝǶȈȉȊȋȌȍȎȏȐȑȒ'], ['\\xa0¡¢£¤¥¦§¨©ª«¬\\xad®¯°±²³´µ²¶', '\\xa0·¢¸¹º»¼½¾¿ÀÁÂÃÄÅÆÇÈÉÊËÌÍÎÏÐ'], ['ɒɓɔɕɖɗɘəɚɛɜɝɞ', 'ɒɓɟ']]\n",
      "Set count: 5 Score: 0.32\n",
      "--------------------------------------------------------------------------------\n",
      "================================================================================ \n",
      "Progress: 1 %\t 5 / 466\n",
      "================================================================================\n",
      "000010011\n",
      "0 (301, 'A') \t0.13\n",
      "[['AB', 'ABBBBBBBBBBBBB', 'A', 'AB', 'AB', 'AB', 'AB', 'ABBC', 'A', 'A', 'AB', 'AB', 'AB', 'AB', 'AB', 'AC', 'AB', 'AB', 'AB', 'AB', 'AB', 'AB', 'AB', 'AB', 'AB', 'AB', 'AB', 'AB', 'AB', 'AB', 'AB', 'AB', 'AB', 'AB', 'AB', 'AB', 'AB', 'AB', 'AB', 'AB', 'AB', 'AB', 'AB', 'AB', 'AB', 'AB', 'AB', 'AB', 'AB', 'AB', 'AB', 'AB', 'AB', 'AB', 'AB', 'AB', 'AB', 'AB', 'AB', 'AB', 'AB', 'AB', 'AB', 'AB', 'AB', 'AB', 'AB', 'AB', 'AB', 'AB', 'AB', 'AB', 'AB', 'AB', 'AB', 'AB', 'AB', 'AB', 'AB', 'AB', 'AB', 'AB', 'AB', 'AB', 'AB', 'AB', 'AB', 'AB', 'AB', 'AB', 'AB', 'AB', 'AB', 'AB', 'AB', 'AC', 'AB', 'AB', 'AB', 'AC', 'AB', 'AB', 'AB', 'AB', 'AC', 'AB', 'AB', 'AB', 'AB', 'AB', 'AB', 'AB', 'AB', 'AB', 'AB', 'AB', 'AB', 'AB', 'AB', 'AB', 'ADD', 'AB', 'AB', 'AB', 'AB', 'AB', 'AB', 'AB', 'AB', 'ABB', 'AB', 'ADD', 'AB', 'AB', 'AB', 'AB', 'AB', 'AB', 'AB', 'AB', 'AB', 'ABB', 'AB', 'AE', 'A', 'AE', 'ADD', 'AB', 'AB', 'AB', 'AB', 'AB', 'AB', 'AB', 'ABB', 'AB', 'AE', 'AB', 'A', 'AB', 'AB', 'AB', 'AB', 'AB', 'A', 'ABB', 'AB', 'AE', 'AB', 'AB', 'AB', 'ABB', 'AB', 'AE', 'AB', 'A', 'AB', 'AB', 'A', 'AB', 'AB', 'AB', 'AB', 'AB', 'AB', 'AB', 'AB', 'AB', 'AB', 'AB', 'AB', 'AB', 'AB', 'AB', 'AB', 'AB', 'AB', 'AB', 'A', 'AB', 'AB', 'AB', 'ABB', 'AB', 'A', 'AFE', 'AB', 'ABB', 'AB', 'ADD', 'AB', 'ABB', 'AB', 'AB', 'AC', 'AB', 'AB', 'AB', 'AC', 'AB', 'AB', 'AB', 'AB', 'AC', 'AB', 'AB', 'AB', 'AB', 'AB', 'A', 'A', 'A', 'A', 'A', 'A', 'A', 'AGHHHGGHHH', 'A', 'A', 'A', 'A', 'AC', 'AHHBBFFBF', 'A', 'ABBBF', 'ABFF', 'ABBBFFBFF', 'ABBBFFBFF', 'ABBBFFBF', 'A', 'ABBBFFBF', 'A', 'AB', 'ABBFB', 'ABBBFB', 'ABI', 'AICIC', 'A', 'A', 'AB', 'AB', 'AB', 'AB', 'A', 'AB', 'AB', 'AB', 'AB', 'AB', 'AB', 'AB', 'AB', 'AB', 'A', 'AB', 'AB', 'AB', 'AB', 'A', 'AB', 'AB', 'AB', 'AB', 'AB', 'A', 'ABFFE', 'A', 'AB', 'AB', 'A', 'A', 'A', 'AB', 'A', 'AB', 'A', 'A', 'ABBBBBBBBBB', 'A', 'A', 'A']]\n",
      "Set count: 1 Score: 0.13\n",
      "--------------------------------------------------------------------------------\n",
      "000010110\n",
      "0 (14, 'ġ') \t0.10\n",
      "1 (4, 'w') \t0.00\n",
      "2 (8, 'ƙ') \t0.04\n",
      "3 (2, 'Ɣ') \t1.00\n",
      "4 (2, 'Ȃȃ') \t1.00\n",
      "[['ġ', 'ġĢģ\\x7fĤ\\x81ĥ\\x83Ħ\\x85ħ\\x87Ĩ\\x89ĩ\\x8bĪ\\x8dīĬ\\x8f\\x90ĭ', 'ġ', 'ġĮį\\x91İ\\x93ı\\x95Ĳ\\x97ĳ\\x99Ĵ\\x9bĵ\\x9dĶ\\x9fķ¡ĸĹ£¤ĺ', 'ġĻļ', 'ġĽ', 'ġ', 'ġľĿ¥ŀ§Ł©ł«Ń\\xadń¯Ņ±ņŇ³´ň', 'ġŉŊŋ±Ō\\x9fō¡Ŏ¸ŏ¼ŐőºŒœ¾¿Ŕ', 'ġŕŖÀŗÂŘÄřŚÆÇś', 'ġŜŝŞÈşÊŠšÌŢÎţÐŤÒťÔŦÖŧØŨÚũÜŪÞūàŬâŭäŮæůèŰêűìŲîųðŴŵòŶôŷöŸøŹźúûŻżŽ', 'ġžſ¼ƀƁýþƂ', 'ġ', 'ġƃƄÿƅƆāĂăĄąĆćĈĉaĊċČĆčĎďĐđĒēĔĕĆĖėĘęĚěĜĝĞğvƇćƇĉƇĊƇƈƉƊƋƈƈƉƊƋƌƍƎƍƏƐƑƒƒ'], ['wxyz{|', 'w}~\\x7f\\x80\\x81\\x82\\x83\\x84\\x85\\x86\\x87\\x88\\x89\\x8a\\x8b\\x8c\\x8d\\x8e\\x8f\\x90\\x91\\x92\\x93\\x94\\x95\\x96\\x97\\x98\\x99\\x9a\\x9b\\x9c\\x9d\\x9e\\x9f\\xa0¡¢£¤¥¦§¨©ª«¬\\xad®¯°±²³´±µ\\x9f¶¡·¸¹º»¼½¾¿ÀÁÂÃÄÅÆÇÈÉÊËÌÍÎÏÐÑÒÓÔÕÖ×ØÙÚÛÜÝÞßàáâãäåæçèéêëìíîïðñòóôõö÷øùúû¼üýþÿĀāĂăĄąĆćĈĉaĊċČĆčĎďĐđĒēĔĕĆĖėĘęĚěĜĝĞğlmnopqrstuv', 'wxyz{|', 'w}~Ġ'], ['ƙƔƚƛƜƝƛƞƟ', 'ƙƛƠơƢƣơƤƥ', 'ƙơƦƧƨƩƧƪƫ', 'ƙƧƬƭƮƯƭưƱ', 'ƙƭƲƳƴƵƳƶƷ', 'ƙƳƸƠơƣơ', 'ƙơƦƧƩƧ', 'ƙƧƹƺƻƼƽƾƿǀǁǂǃ'], ['ƔƕƖ', 'ƔƗƘ'], ['ȂȃȄȅȆȇȈȉȊȋȌȍȎ', 'Ȃȃȏ']]\n",
      "Set count: 5 Score: 0.30\n",
      "--------------------------------------------------------------------------------\n"
     ]
    },
    {
     "name": "stdout",
     "output_type": "stream",
     "text": [
      "000011010\n",
      "0 (60, 'W') \t0.24\n",
      "1 (14, 'B') \t0.24\n",
      "2 (60, 'f') \t0.03\n",
      "3 (8, 'R') \t0.23\n",
      "4 (20, 'R') \t0.22\n",
      "5 (22, '\\x9c') \t0.48\n",
      "6 (5, 'L') \t0.50\n",
      "7 (11, '\\x88') \t0.04\n",
      "8 (10, '¯') \t0.25\n",
      "9 (3, 'F') \t1.00\n",
      "10 (8, 'R') \t0.23\n",
      "11 (3, '\\x96') \t0.50\n",
      "12 (2, '¢') \t1.00\n",
      "13 (3, '\\x83') \t0.19\n",
      "14 (2, 'y') \t1.00\n",
      "[['WX', 'WX', 'WX', 'WX', 'WY', 'WY', 'WY', 'WSRZ', 'WZ', 'WV', 'WZ', 'WZ', 'WZ', 'WZ', 'WY', 'WZ', 'WSRZ', 'WZ', 'WZ', 'WZ', 'WZ', 'WZ', 'WY', 'WSRY', 'WY', 'WZ', 'WZ', 'W[', 'WZ', 'WSRY', 'WY', 'W\\\\', 'WURZ', 'WZ', 'W]', 'W]', 'W]', 'WZ', 'WZ', 'W]', 'WZ', 'W^', 'W]', 'W]', 'WZ', 'W]', 'W]', 'WZ', 'WZ', 'WZ', 'W]', 'WZ', 'WZ', 'W]', 'W]', 'W]', 'W]', 'WSRZ', 'WSRZ', 'WURTRNOS'], ['BC', 'B', 'B', 'B', 'B', 'B', 'B', 'B', 'B', 'B', 'B', 'B', 'B', 'BDEFGF'], ['fg', 'fg', 'fg', 'fg', 'fh', 'fh', 'fh', 'fdSRibbjdk', 'fk', 'fe', 'fk', 'fk', 'fk', 'fk', 'fh', 'fk', 'fdSRibllbmbbjdk', 'fk', 'fk', 'fk', 'fk', 'fk', 'fh', 'fdSRabjdnh', 'fh', 'fk', 'fk', 'fk', 'fno', 'fdSRibjdh', 'fh', 'fp', 'fdURibcdqk', 'fk', 'for', 'fr', 'fr', 'fk', 'fk', 'fr', 'fk', 'fs', 'fr', 'fr', 'fk', 'fr', 'fr', 'fk', 'fk', 'fk', 'fr', 'fk', 'fk', 'for', 'fr', 'fr', 'fr', 'fdSRjtubjdk', 'fdSRvbbjdk', 'fdURTRNOSRSRSRNO_RS'], ['RS', 'RT', 'RS', 'RNPS', 'RS', 'RS', 'RU', 'RV'], ['RS', 'RS', 'RNO_', 'RS', 'RS', 'RS', 'RNOS', 'RS', 'RS', 'R`', 'RS', 'RNPQ', 'RS', 'RT', 'RS', 'RNPS', 'RS', 'RS', 'RU', 'Rabbcde'], ['\\x9c\\x9d', '\\x9c\\x9d', '\\x9c\\x9d', '\\x9c\\x9a\\x9d', '\\x9c\\x9e', '\\x9c\\x9d', '\\x9c\\x9d', '\\x9c\\x9d', '\\x9c\\x9d', '\\x9c\\x9e', '\\x9c\\x9d', '\\x9c\\x9d', '\\x9c\\x9a\\x9f', '\\x9c\\x9d', '\\x9c\\x9d', '\\x9c\\x9d', '\\x9c\\x9a\\x9d', '\\x9c\\x9d', '\\x9c\\x9d', '\\x9c\\xa0', '\\x9c\\x9d', '\\x9c\\x9a¡¢££¤'], ['LM', 'LK', 'LM', 'LM', 'LNONPQ'], ['\\x88\\x89\\x8a', '\\x88\\x8b\\x8c\\x8d\\x86\\x87', '\\x88\\x8e\\x8a\\x8f\\x90\\x8c\\x8d\\x86\\x87', '\\x88\\x91\\x8a', '\\x88\\x90\\x8c\\x8d\\x86\\x87', '\\x88\\x92\\x8a', '\\x88\\x93\\x8c\\x8d\\x86\\x87', '\\x88\\x91\\x8a', '\\x88\\x94\\x8c\\x8d\\x86\\x87', '\\x88\\x89\\x8a', '\\x88\\x95\\x8c\\x8d\\x85\\x86\\x87\\x91\\x8a\\x8c\\x8d\\x86\\x87'], ['¯', '¯', '¯', '¯', '¯', '¯', '¯', '¯', '¯', '¯¬\\xad°'], ['FG', 'FG', 'FHIJKK'], ['RS', 'RS', 'RNOS', 'RS', 'RS', 'R`', 'RS', 'Rwxwxwxw'], ['\\x96\\x97', '\\x96\\x98', '\\x96\\x98\\x99\\x9a\\x9b'], ['¢\\xa0', '¢¦¦§¨©'], ['\\x83\\x84', '\\x83', '\\x83\\x85\\x86\\x87'], ['yz{|', 'y}~\\x7f\\x80\\x81\\x82\\x81']]\n",
      "Set count: 15 Score: 0.43\n",
      "--------------------------------------------------------------------------------\n",
      "000100011\n",
      "0 (228, 'H') \t0.21\n",
      "1 (32, 'G') \t0.25\n",
      "2 (63, 'E') \t0.23\n",
      "3 (14, 'B') \t0.24\n",
      "4 (6, 'D') \t0.25\n",
      "[['HG', 'HG', 'HG', 'HG', 'HG', 'HG', 'HG', 'HGGG', 'HG', 'HG', 'HG', 'HG', 'HG', 'HG', 'HG', 'HG', 'HGGG', 'HG', 'HG', 'HG', 'HG', 'HG', 'HG', 'HGGG', 'HG', 'HG', 'HG', 'HG', 'HG', 'HGGG', 'HG', 'HG', 'HGGG', 'HG', 'HG', 'HG', 'HG', 'HG', 'HG', 'HG', 'HG', 'HG', 'HG', 'HG', 'HG', 'HG', 'HG', 'HG', 'HG', 'HG', 'HG', 'HG', 'HG', 'HG', 'HG', 'HG', 'HG', 'HGGG', 'HGGG', 'HGGGGGGGGGGGGGGGGGGGGGGGGGGGGGGGGGGGGGGGGGGGGGGGGGGGGGGG', 'HII', 'H', 'H', 'H', 'H', 'H', 'H', 'H', 'H', 'H', 'H', 'H', 'H', 'H', 'H', 'H', 'H', 'H', 'H', 'HGG', 'HII', 'H', 'H', 'H', 'H', 'H', 'H', 'H', 'H', 'H', 'H', 'H', 'H', 'H', 'H', 'H', 'H', 'H', 'H', 'H', 'H', 'HGG', 'H', 'H', 'H', 'H', 'H', 'HII', 'H', 'H', 'H', 'H', 'H', 'H', 'H', 'H', 'H', 'H', 'H', 'H', 'H', 'H', 'H', 'H', 'HGG', 'H', 'H', 'H', 'H', 'H', 'H', 'H', 'H', 'H', 'H', 'H', 'H', 'H', 'H', 'H', 'H', 'H', 'H', 'HGG', 'H', 'H', 'H', 'H', 'H', 'H', 'H', 'H', 'H', 'H', 'HGG', 'H', 'H', 'H', 'H', 'H', 'H', 'H', 'H', 'H', 'H', 'H', 'H', 'H', 'H', 'H', 'H', 'H', 'H', 'H', 'H', 'H', 'H', 'H', 'H', 'H', 'H', 'H', 'H', 'H', 'H', 'H', 'H', 'H', 'H', 'H', 'H', 'H', 'H', 'H', 'H', 'H', 'H', 'H', 'H', 'H', 'H', 'H', 'H', 'H', 'H', 'H', 'H', 'H', 'H', 'H', 'H', 'H', 'HGG', 'H', 'H', 'H', 'H', 'H', 'H', 'H', 'H', 'HGG', 'HII', 'H', 'H', 'H', 'H', 'HGGGGGGGGGGGGGGGGGGGGGGGGGGGGGGGGGGGGGGGGGGJJJJJJJJJGGGGEEEK'], ['G', 'G', 'G', 'G', 'G', 'G', 'G', 'G', 'G', 'G', 'G', 'G', 'G', 'G', 'G', 'G', 'G', 'G', 'G', 'G', 'G', 'G', 'G', 'G', 'G', 'G', 'G', 'G', 'G', 'G', 'G', 'G'], ['E', 'E', 'E', 'E', 'EF', 'E', 'E', 'E', 'E', 'E', 'E', 'E', 'EF', 'E', 'E', 'E', 'E', 'E', 'E', 'E', 'EF', 'E', 'E', 'E', 'E', 'E', 'E', 'E', 'EF', 'E', 'E', 'E', 'E', 'E', 'E', 'E', 'EF', 'E', 'E', 'E', 'E', 'E', 'E', 'E', 'EF', 'E', 'E', 'E', 'E', 'E', 'E', 'E', 'E', 'E', 'E', 'E', 'E', 'E', 'E', 'E', 'EDDDDDDCLDDDDDDDDLDDDDDDDDDDDDDDDDDDLDDDDDDDDLDDDDDDDDDDLFCCCCCCCCC', 'E', 'EMMMMMMCCLNNNNNNNNNNCCL'], ['BA', 'B', 'B', 'B', 'B', 'B', 'B', 'B', 'B', 'B', 'B', 'B', 'B', 'BCDDDD'], ['D', 'D', 'D', 'D', 'D', 'DECFF']]\n",
      "Set count: 5 Score: 0.44\n",
      "--------------------------------------------------------------------------------\n",
      "000101001\n",
      "0 (60, 'X') \t0.24\n",
      "1 (14, 'B') \t0.24\n",
      "2 (60, 'g') \t0.03\n",
      "3 (8, 'S') \t0.23\n",
      "4 (20, 'S') \t0.22\n",
      "5 (22, '¡') \t0.48\n",
      "6 (5, 'M') \t0.50\n",
      "7 (8, 'S') \t0.23\n",
      "8 (10, '¶') \t0.25\n",
      "9 (3, 'F') \t1.00\n",
      "10 (8, '\\x89\\x8a') \t0.15\n",
      "11 (2, '§') \t1.00\n",
      "12 (2, '{') \t1.00\n",
      "13 (2, '\\x85') \t1.00\n",
      "[['XY', 'XY', 'XY', 'XY', 'XZ', 'XZ', 'XZ', 'XTS[', 'X[', 'XW', 'X[', 'X[', 'X[', 'X[', 'XZ', 'X[', 'XTS[', 'X[', 'X[', 'X[', 'X[', 'X[', 'XZ', 'XTSZ', 'XZ', 'X[', 'X[', 'X\\\\', 'X[', 'XTSZ', 'XZ', 'X]', 'XVS[', 'X[', 'X^', 'X^', 'X^', 'X[', 'X[', 'X^', 'X[', 'X_', 'X^', 'X^', 'X[', 'X^', 'X^', 'X[', 'X[', 'X[', 'X^', 'X[', 'X[', 'X^', 'X^', 'X^', 'X^', 'XTS[', 'XTS[', 'XVSUSOPT'], ['BC', 'B', 'B', 'B', 'B', 'B', 'B', 'B', 'B', 'B', 'B', 'B', 'B', 'BDEFGF'], ['gh', 'gh', 'gh', 'gh', 'gi', 'gi', 'gi', 'geTSjcckel', 'gl', 'gf', 'gl', 'gl', 'gl', 'gl', 'gi', 'gl', 'geTSjmnnmocckel', 'gl', 'gl', 'gl', 'gl', 'gl', 'gi', 'geTSbmkepi', 'gi', 'gl', 'gl', 'gl', 'gpq', 'geTSjmkei', 'gi', 'gr', 'geVSjmdesl', 'gl', 'gqt', 'gt', 'gt', 'gl', 'gl', 'gt', 'gl', 'gu', 'gt', 'gt', 'gl', 'gt', 'gt', 'gl', 'gl', 'gl', 'gt', 'gl', 'gl', 'gqt', 'gt', 'gt', 'gt', 'geTSkvwmkel', 'geTSxcckel', 'geVSUSOPTSTSTSOP`ST'], ['ST', 'SU', 'ST', 'SOQT', 'ST', 'ST', 'SV', 'SW'], ['ST', 'ST', 'SOP`', 'ST', 'ST', 'ST', 'SOPT', 'ST', 'ST', 'Sa', 'ST', 'SOQR', 'ST', 'SU', 'ST', 'SOQT', 'ST', 'ST', 'SV', 'Sbccdef'], ['¡¢', '¡¢', '¡¢', '¡\\x9f¢', '¡£', '¡¢', '¡¢', '¡¢', '¡¢', '¡£', '¡¢', '¡¢', '¡\\x9f¤', '¡¢', '¡¢', '¡¢', '¡\\x9f¢', '¡¢', '¡¢', '¡¥', '¡¢', '¡\\x9f¦§¨¨©'], ['MN', 'ML', 'MN', 'MN', 'MOPOQR'], ['ST', 'ST', 'SOPT', 'ST', 'ST', 'Sa', 'ST', 'Syzyzyzy'], ['¶', '¶', '¶', '¶', '¶', '¶', '¶', '¶', '¶', '¶³´·'], ['FG', 'FG', 'FHIJKL'], ['\\x89\\x8a\\x8b\\x8c\\x8d\\x8e\\x8f\\x90\\x91', '\\x89\\x8a\\x8b\\x92\\x8d\\x93\\x94\\x90\\x91', '\\x89\\x8a\\x8b\\x95\\x8d\\x8e\\x94\\x90\\x91', '\\x89\\x8a\\x8b\\x96\\x8d\\x8e\\x97\\x90\\x91', '\\x89\\x8a\\x8b\\x95\\x8d\\x8e\\x98\\x90\\x91', '\\x89\\x8a\\x8b\\x8c\\x8d\\x8e\\x99\\x90\\x91\\x9a', '\\x89\\x8a\\x95\\x8d\\x90\\x91', '\\x89\\x8a\\x96\\x8d\\x90\\x91\\x9b\\x9c\\x9b\\x9d\\x9b\\x9d\\x9e\\x9f'], ['§¬', '§\\xad\\xad®¯°'], ['{|}~', '{\\x7f\\x80\\x81\\x82\\x83\\x84\\x83'], ['\\x85\\x86', '\\x85\\x87\\x88']]\n",
      "Set count: 14 Score: 0.44\n",
      "--------------------------------------------------------------------------------\n",
      "000101010\n",
      "0 (60, 'X') \t0.24\n",
      "1 (14, 'B') \t0.24\n",
      "2 (60, 'g') \t0.03\n",
      "3 (8, 'S') \t0.23\n",
      "4 (20, 'S') \t0.22\n",
      "5 (22, '\\x9e') \t0.48\n",
      "6 (5, 'M') \t0.50\n",
      "7 (8, 'S') \t0.23\n",
      "8 (10, '³') \t0.25\n",
      "9 (3, 'F') \t1.00\n",
      "10 (8, '\\x87\\x88') \t0.15\n",
      "11 (2, '¤') \t1.00\n",
      "12 (3, '\\x84') \t0.19\n",
      "13 (2, 'z') \t1.00\n",
      "[['XY', 'XY', 'XY', 'XY', 'XZ', 'XZ', 'XZ', 'XTS[', 'X[', 'XW', 'X[', 'X[', 'X[', 'X[', 'XZ', 'X[', 'XTS[', 'X[', 'X[', 'X[', 'X[', 'X[', 'XZ', 'XTSZ', 'XZ', 'X[', 'X[', 'X\\\\', 'X[', 'XTSZ', 'XZ', 'X]', 'XVS[', 'X[', 'X^', 'X^', 'X^', 'X[', 'X[', 'X^', 'X[', 'X_', 'X^', 'X^', 'X[', 'X^', 'X^', 'X[', 'X[', 'X[', 'X^', 'X[', 'X[', 'X^', 'X^', 'X^', 'X^', 'XTS[', 'XTS[', 'XVSUSOPT'], ['BC', 'B', 'B', 'B', 'B', 'B', 'B', 'B', 'B', 'B', 'B', 'B', 'B', 'BDEFGF'], ['gh', 'gh', 'gh', 'gh', 'gi', 'gi', 'gi', 'geTSjcckel', 'gl', 'gf', 'gl', 'gl', 'gl', 'gl', 'gi', 'gl', 'geTSjcmmcncckel', 'gl', 'gl', 'gl', 'gl', 'gl', 'gi', 'geTSbckeoi', 'gi', 'gl', 'gl', 'gl', 'gop', 'geTSjckei', 'gi', 'gq', 'geVSjcderl', 'gl', 'gps', 'gs', 'gs', 'gl', 'gl', 'gs', 'gl', 'gt', 'gs', 'gs', 'gl', 'gs', 'gs', 'gl', 'gl', 'gl', 'gs', 'gl', 'gl', 'gps', 'gs', 'gs', 'gs', 'geTSkuvckel', 'geTSwcckel', 'geVSUSOPTSTSTSOP`ST'], ['ST', 'SU', 'ST', 'SOQT', 'ST', 'ST', 'SV', 'SW'], ['ST', 'ST', 'SOP`', 'ST', 'ST', 'ST', 'SOPT', 'ST', 'ST', 'Sa', 'ST', 'SOQR', 'ST', 'SU', 'ST', 'SOQT', 'ST', 'ST', 'SV', 'Sbccdef'], ['\\x9e\\x9f', '\\x9e\\x9f', '\\x9e\\x9f', '\\x9e\\x9c\\x9f', '\\x9e\\xa0', '\\x9e\\x9f', '\\x9e\\x9f', '\\x9e\\x9f', '\\x9e\\x9f', '\\x9e\\xa0', '\\x9e\\x9f', '\\x9e\\x9f', '\\x9e\\x9c¡', '\\x9e\\x9f', '\\x9e\\x9f', '\\x9e\\x9f', '\\x9e\\x9c\\x9f', '\\x9e\\x9f', '\\x9e\\x9f', '\\x9e¢', '\\x9e\\x9f', '\\x9e\\x9c£¤¥¥¦'], ['MN', 'ML', 'MN', 'MN', 'MOPOQR'], ['ST', 'ST', 'SOPT', 'ST', 'ST', 'Sa', 'ST', 'Sxyxyxyx'], ['³', '³', '³', '³', '³', '³', '³', '³', '³', '³°±´'], ['FG', 'FG', 'FHIJKL'], ['\\x87\\x88\\x89\\x8a\\x8b\\x8c\\x8d\\x8e\\x8f', '\\x87\\x88\\x89\\x90\\x8b\\x91\\x92\\x8e\\x8f', '\\x87\\x88\\x89\\x93\\x8b\\x8c\\x92\\x8e\\x8f', '\\x87\\x88\\x89\\x94\\x8b\\x8c\\x95\\x8e\\x8f', '\\x87\\x88\\x89\\x93\\x8b\\x8c\\x96\\x8e\\x8f', '\\x87\\x88\\x89\\x8a\\x8b\\x8c\\x97\\x8e\\x8f\\x86', '\\x87\\x88\\x93\\x8b\\x8e\\x8f', '\\x87\\x88\\x94\\x8b\\x8e\\x8f\\x98\\x99\\x98\\x9a\\x98\\x9a\\x9b\\x9c'], ['¤©', '¤ªª«¬\\xad'], ['\\x84\\x85', '\\x84', '\\x84\\x86'], ['z{|}', 'z~\\x7f\\x80\\x81\\x82\\x83\\x82']]\n",
      "Set count: 14 Score: 0.44\n",
      "--------------------------------------------------------------------------------\n"
     ]
    },
    {
     "name": "stdout",
     "output_type": "stream",
     "text": [
      "================================================================================ \n",
      "Progress: 5 %\t 24 / 466\n",
      "================================================================================\n",
      "000110001\n",
      "0 (145, 'L') \t0.12\n",
      "1 (16, 'I') \t0.50\n",
      "2 (32, 'F') \t0.16\n",
      "3 (14, 'B') \t0.24\n",
      "4 (2, 'U') \t0.25\n",
      "5 (22, 'DE') \t0.95\n",
      "6 (3, 'DE') \t1.00\n",
      "7 (10, '`') \t0.25\n",
      "8 (5, 'C') \t0.19\n",
      "[['LJ', 'LJ', 'LJ', 'LJ', 'LJ', 'LJ', 'LJ', 'LJIJ', 'LJ', 'LJ', 'LJ', 'LJ', 'LJ', 'LJ', 'LJ', 'LJ', 'LJIJ', 'LJ', 'LJ', 'LJ', 'LJ', 'LJ', 'LJ', 'LJIJ', 'LJ', 'LJ', 'LJ', 'LJ', 'LJ', 'LJIJ', 'LJ', 'LJ', 'LJIJ', 'LJ', 'LJ', 'LJ', 'LJ', 'LJ', 'LJ', 'LJ', 'LJ', 'LJ', 'LJ', 'LJ', 'LJ', 'LJ', 'LJ', 'LJ', 'LJ', 'LJ', 'LJ', 'LJ', 'LJ', 'LJ', 'LJ', 'LJ', 'LJ', 'LJIJ', 'LJIJ', 'LJIJIJIKIJIJIJIKIJIJIJIJIKIJIJIJIJIJIJIJIJIJIJIJIJIJIJIJ', 'LMM', 'LN', 'LN', 'LN', 'LN', 'LN', 'LN', 'LN', 'LN', 'LNNIJ', 'LMM', 'LN', 'LN', 'LN', 'LN', 'LN', 'LN', 'LN', 'LN', 'LN', 'LNNIJ', 'LO', 'L', 'LO', 'LMM', 'LN', 'LN', 'LN', 'LN', 'LN', 'LN', 'LN', 'LNNIJ', 'LO', 'LN', 'L', 'LN', 'LN', 'LN', 'LN', 'LN', 'L', 'LNNIJ', 'LO', 'LN', 'LN', 'LN', 'LNNIJ', 'LO', 'LN', 'L', 'LN', 'LN', 'L', 'LN', 'LN', 'LN', 'LN', 'LN', 'LN', 'LN', 'LN', 'LN', 'LN', 'LN', 'LN', 'LN', 'LN', 'LN', 'LN', 'LN', 'LN', 'LN', 'L', 'LN', 'LN', 'LN', 'LNNIJ', 'L', 'LPO', 'LN', 'LNNIJ', 'LMM', 'LN', 'LNNIJIJIKIJIJIJIKIJIJIJIJIKIJIJIJIJIJIIIIIIIIQRRRQQRRRIIIIST'], ['IJ', 'IJ', 'IJ', 'IJ', 'IJ', 'IK', 'IJ', 'IJ', 'IJ', 'IJ', 'IJ', 'IJ', 'IJ', 'IJ', 'IJ', 'IJ'], ['F', 'FVV', 'FWSS', 'F', 'F', 'FVS', 'FWVS', 'F', 'F', 'FVV', 'FWVS', 'F', 'F', 'FVV', 'FWVS', 'F', 'F', 'FVV', 'FWSS', 'F', 'F', 'FVV', 'FWSS', 'FS', 'F', 'FV', 'FS', 'F', 'F', 'FV', 'FS', 'FXDXYXYC'], ['BA', 'B', 'B', 'B', 'B', 'B', 'B', 'B', 'B', 'B', 'B', 'B', 'B', 'BCDEDE'], ['U', 'U'], ['DE', 'DE', 'DE', 'DEZ', 'DE', 'DE', 'DE', 'DE', 'DE', 'DE', 'DE', 'DE', 'DEZ', 'DE', 'DE', 'DE', 'DEZ', 'DE', 'DE', 'DE', 'DE', 'DEZH[\\\\\\\\'], ['DE', 'DE', 'DEFGHH'], ['`', '`', '`', '`', '`', '`', '`', '`', '`', '`CCZ'], ['C', 'C[', 'C[SS^^_^^_', 'C', 'CZ']]\n",
      "Set count: 9 Score: 0.51\n",
      "--------------------------------------------------------------------------------\n",
      "000110010\n",
      "0 (145, 'L') \t0.12\n",
      "1 (16, 'I') \t0.50\n",
      "2 (32, 'F') \t0.16\n",
      "3 (14, 'B') \t0.24\n",
      "4 (3, 'R') \t0.25\n",
      "5 (22, 'DE') \t0.95\n",
      "6 (3, 'DE') \t1.00\n",
      "7 (10, '^') \t0.25\n",
      "8 (5, 'C') \t0.19\n",
      "[['LJ', 'LJ', 'LJ', 'LJ', 'LJ', 'LJ', 'LJ', 'LJIJ', 'LJ', 'LJ', 'LJ', 'LJ', 'LJ', 'LJ', 'LJ', 'LJ', 'LJIJ', 'LJ', 'LJ', 'LJ', 'LJ', 'LJ', 'LJ', 'LJIJ', 'LJ', 'LJ', 'LJ', 'LJ', 'LJ', 'LJIJ', 'LJ', 'LJ', 'LJIJ', 'LJ', 'LJ', 'LJ', 'LJ', 'LJ', 'LJ', 'LJ', 'LJ', 'LJ', 'LJ', 'LJ', 'LJ', 'LJ', 'LJ', 'LJ', 'LJ', 'LJ', 'LJ', 'LJ', 'LJ', 'LJ', 'LJ', 'LJ', 'LJ', 'LJIJ', 'LJIJ', 'LJIJIJIKIJIJIJIKIJIJIJIJIKIJIJIJIJIJIJIJIJIJIJIJIJIJIJIJ', 'LMM', 'LN', 'LN', 'LN', 'LN', 'LN', 'LN', 'LN', 'LN', 'LNNIJ', 'LMM', 'LN', 'LN', 'LN', 'LN', 'LN', 'LN', 'LN', 'LN', 'LN', 'LNNIJ', 'LM', 'L', 'LM', 'LMM', 'LN', 'LN', 'LN', 'LN', 'LN', 'LN', 'LN', 'LNNIJ', 'LM', 'LN', 'L', 'LN', 'LN', 'LN', 'LN', 'LN', 'L', 'LNNIJ', 'LM', 'LN', 'LN', 'LN', 'LNNIJ', 'LM', 'LN', 'L', 'LN', 'LN', 'L', 'LN', 'LN', 'LN', 'LN', 'LN', 'LN', 'LN', 'LN', 'LN', 'LN', 'LN', 'LN', 'LN', 'LN', 'LN', 'LN', 'LN', 'LN', 'LN', 'L', 'LN', 'LN', 'LN', 'LNNIJ', 'L', 'LOM', 'LN', 'LNNIJ', 'LMM', 'LN', 'LNNIJIJIKIJIJIJIKIJIJIJIJIKIJIJIJIJIJIIIIIIIIPQQQPPQQQIIIIRS'], ['IJ', 'IJ', 'IJ', 'IJ', 'IJ', 'IK', 'IJ', 'IJ', 'IJ', 'IJ', 'IJ', 'IJ', 'IJ', 'IJ', 'IJ', 'IJ'], ['F', 'FTT', 'FURR', 'F', 'F', 'FTR', 'FUTR', 'F', 'F', 'FTT', 'FUTR', 'F', 'F', 'FTT', 'FUTR', 'F', 'F', 'FTT', 'FURR', 'F', 'F', 'FTT', 'FURR', 'FR', 'F', 'FT', 'FR', 'F', 'F', 'FT', 'FR', 'FVDVWVWC'], ['BA', 'B', 'B', 'B', 'B', 'B', 'B', 'B', 'B', 'B', 'B', 'B', 'B', 'BCDEDE'], ['R', 'R', 'R'], ['DE', 'DE', 'DE', 'DEX', 'DE', 'DE', 'DE', 'DE', 'DE', 'DE', 'DE', 'DE', 'DEX', 'DE', 'DE', 'DE', 'DEX', 'DE', 'DE', 'DE', 'DE', 'DEXHYZZ'], ['DE', 'DE', 'DEFGHH'], ['^', '^', '^', '^', '^', '^', '^', '^', '^', '^CCX'], ['C', 'CY', 'CYRR\\\\\\\\]\\\\\\\\]', 'C', 'CX']]\n",
      "Set count: 9 Score: 0.51\n",
      "--------------------------------------------------------------------------------\n",
      "001000011\n",
      "0 (639, 'A') \t0.25\n",
      "[['A', 'A', 'A', 'A', 'A', 'A', 'A', 'A', 'A', 'A', 'A', 'A', 'A', 'A', 'A', 'A', 'A', 'A', 'A', 'A', 'A', 'A', 'A', 'A', 'A', 'A', 'A', 'A', 'A', 'A', 'A', 'A', 'A', 'A', 'A', 'A', 'A', 'A', 'A', 'A', 'A', 'A', 'A', 'A', 'A', 'A', 'A', 'A', 'A', 'A', 'A', 'A', 'A', 'A', 'A', 'A', 'A', 'A', 'A', 'A', 'A', 'A', 'A', 'A', 'A', 'A', 'A', 'A', 'A', 'A', 'A', 'A', 'A', 'A', 'A', 'A', 'A', 'A', 'A', 'A', 'A', 'A', 'A', 'A', 'A', 'A', 'A', 'A', 'A', 'A', 'A', 'A', 'A', 'A', 'A', 'A', 'A', 'A', 'A', 'A', 'A', 'A', 'A', 'A', 'A', 'A', 'A', 'A', 'A', 'A', 'A', 'A', 'A', 'A', 'A', 'A', 'A', 'A', 'A', 'A', 'A', 'A', 'A', 'A', 'A', 'A', 'A', 'A', 'A', 'A', 'A', 'A', 'A', 'A', 'A', 'A', 'A', 'A', 'A', 'A', 'A', 'A', 'A', 'A', 'A', 'A', 'A', 'A', 'A', 'A', 'A', 'A', 'A', 'A', 'A', 'A', 'A', 'A', 'A', 'A', 'A', 'A', 'A', 'A', 'A', 'A', 'A', 'A', 'A', 'A', 'A', 'A', 'A', 'A', 'A', 'A', 'A', 'A', 'A', 'A', 'A', 'A', 'A', 'A', 'A', 'A', 'A', 'A', 'A', 'A', 'A', 'A', 'A', 'A', 'A', 'A', 'A', 'A', 'A', 'A', 'A', 'A', 'A', 'A', 'A', 'A', 'A', 'A', 'A', 'A', 'A', 'A', 'A', 'A', 'A', 'A', 'A', 'A', 'A', 'A', 'A', 'A', 'A', 'A', 'A', 'A', 'A', 'A', 'A', 'A', 'A', 'A', 'A', 'A', 'A', 'A', 'A', 'A', 'A', 'A', 'A', 'A', 'A', 'A', 'A', 'A', 'A', 'A', 'A', 'A', 'A', 'ABB', 'A', 'A', 'A', 'A', 'A', 'A', 'A', 'A', 'A', 'A', 'A', 'A', 'A', 'A', 'A', 'A', 'A', 'A', 'A', 'A', 'A', 'ABB', 'A', 'A', 'A', 'A', 'A', 'A', 'A', 'A', 'A', 'A', 'A', 'A', 'A', 'A', 'A', 'A', 'A', 'A', 'A', 'A', 'A', 'A', 'A', 'A', 'A', 'A', 'A', 'A', 'ABB', 'A', 'A', 'A', 'A', 'A', 'A', 'A', 'A', 'A', 'A', 'A', 'A', 'A', 'A', 'A', 'A', 'A', 'A', 'A', 'A', 'A', 'A', 'A', 'A', 'A', 'A', 'A', 'A', 'A', 'A', 'A', 'A', 'A', 'A', 'A', 'A', 'A', 'A', 'A', 'A', 'A', 'A', 'A', 'A', 'A', 'A', 'A', 'A', 'A', 'A', 'A', 'A', 'A', 'A', 'A', 'A', 'A', 'A', 'A', 'A', 'A', 'A', 'A', 'A', 'A', 'A', 'A', 'A', 'A', 'A', 'A', 'A', 'A', 'A', 'A', 'A', 'A', 'A', 'A', 'A', 'A', 'A', 'A', 'A', 'A', 'A', 'A', 'A', 'A', 'A', 'A', 'A', 'A', 'A', 'A', 'A', 'A', 'A', 'A', 'A', 'A', 'A', 'A', 'A', 'A', 'A', 'A', 'A', 'A', 'A', 'A', 'A', 'A', 'A', 'A', 'A', 'A', 'A', 'A', 'A', 'A', 'A', 'A', 'A', 'ABB', 'A', 'A', 'A', 'A', 'A', 'A', 'A', 'A', 'A', 'A', 'A', 'A', 'A', 'A', 'A', 'A', 'A', 'A', 'A', 'A', 'A', 'A', 'A', 'A', 'A', 'A', 'A', 'A', 'A', 'A', 'A', 'A', 'A', 'A', 'A', 'A', 'A', 'A', 'A', 'A', 'A', 'A', 'A', 'A', 'A', 'A', 'ABBBBBBBBB', 'A', 'A', 'A', 'A', 'A', 'A', 'ABB', 'A', 'A', 'A', 'A', 'A', 'A', 'A', 'A', 'A', 'A', 'A', 'A', 'A', 'A', 'A', 'A', 'A', 'A', 'A', 'A', 'A', 'A', 'A', 'A', 'A', 'A', 'A', 'A', 'A', 'A', 'A', 'A', 'A', 'A', 'A', 'A', 'A', 'A', 'A', 'A', 'A', 'A', 'A', 'A', 'A', 'A', 'A', 'A', 'A', 'A', 'A', 'A', 'A', 'A', 'A', 'A', 'A', 'A', 'A', 'A', 'A', 'A', 'A', 'A', 'A', 'A', 'A', 'A', 'A', 'A', 'A', 'A', 'A', 'A', 'A', 'A', 'A', 'A', 'A', 'A', 'A', 'A', 'A', 'A', 'A', 'A', 'A', 'A', 'A', 'A', 'A', 'A', 'A', 'A', 'A', 'A', 'A', 'A', 'A', 'A', 'A', 'A', 'A', 'A', 'A', 'A', 'A', 'A', 'A', 'A', 'A', 'A', 'A', 'A', 'A', 'A', 'A', 'A', 'A', 'A', 'A', 'A', 'A', 'A', 'A', 'A', 'A', 'A', 'A', 'A', 'A', 'A', 'A', 'A', 'A', 'A', 'A', 'A', 'A', 'A', 'A', 'A', 'A', 'A', 'A', 'A', 'A', 'A', 'A', 'A', 'A', 'A', 'A', 'A', 'A', 'A', 'A']]\n",
      "Set count: 1 Score: 0.25\n",
      "--------------------------------------------------------------------------------\n",
      "================================================================================ \n",
      "Progress: 10 %\t 47 / 466\n",
      "================================================================================\n",
      "001010010\n",
      "0 (309, 'A') \t0.14\n",
      "[['AB', 'ABBBBBBBBBBBBB', 'A', 'AB', 'AB', 'AB', 'AB', 'ABBC', 'A', 'A', 'AB', 'AB', 'AB', 'AB', 'AB', 'AC', 'AB', 'AB', 'AB', 'AB', 'AB', 'AB', 'AB', 'AB', 'AB', 'AB', 'AB', 'AB', 'AB', 'AB', 'AB', 'AB', 'AB', 'AB', 'AB', 'AB', 'AB', 'AB', 'AB', 'AB', 'AB', 'AB', 'AB', 'AB', 'AB', 'AB', 'AB', 'AB', 'AB', 'AB', 'AB', 'AB', 'AB', 'AB', 'AB', 'AB', 'AB', 'AB', 'AB', 'AB', 'AB', 'AB', 'AB', 'AB', 'AB', 'AB', 'AB', 'AB', 'AB', 'AB', 'AB', 'AB', 'AB', 'AB', 'AB', 'AB', 'AB', 'AB', 'AB', 'AB', 'AB', 'AB', 'AB', 'AB', 'AB', 'AB', 'AB', 'AB', 'AB', 'AB', 'AB', 'AB', 'AB', 'AB', 'AB', 'AC', 'AB', 'AB', 'AB', 'AC', 'AB', 'AB', 'AB', 'AB', 'AC', 'AB', 'AB', 'AB', 'AB', 'AB', 'AB', 'AB', 'AB', 'AB', 'AB', 'AB', 'AB', 'AB', 'AB', 'AB', 'ADD', 'AB', 'AB', 'AB', 'AB', 'AB', 'AB', 'AB', 'AB', 'ABB', 'AB', 'ADD', 'AB', 'AB', 'AB', 'AB', 'AB', 'AB', 'AB', 'AB', 'AB', 'ABB', 'AB', 'AD', 'A', 'AD', 'ADD', 'AB', 'AB', 'AB', 'AB', 'AB', 'AB', 'AB', 'ABB', 'AB', 'AD', 'AB', 'A', 'AB', 'AB', 'AB', 'AB', 'AB', 'A', 'ABB', 'AB', 'AD', 'AB', 'AB', 'AB', 'ABB', 'AB', 'AD', 'AB', 'A', 'AB', 'AB', 'A', 'AB', 'AB', 'AB', 'AB', 'AB', 'AB', 'AB', 'AB', 'AB', 'AB', 'AB', 'AB', 'AB', 'AB', 'AB', 'AB', 'AB', 'AB', 'AB', 'A', 'AB', 'AB', 'AB', 'ABB', 'AB', 'A', 'AED', 'AB', 'ABB', 'AB', 'ADD', 'AB', 'ABB', 'AB', 'AB', 'AC', 'AB', 'AB', 'AB', 'AC', 'AB', 'AB', 'AB', 'AB', 'AC', 'AB', 'AB', 'AB', 'AB', 'AB', 'A', 'A', 'A', 'A', 'A', 'A', 'A', 'AB', 'A', 'A', 'ABB', 'A', 'A', 'A', 'A', 'A', 'A', 'A', 'AC', 'A', 'A', 'ABBEEBE', 'A', 'ABBBE', 'ABEE', 'ABBBEEBEE', 'ABBBEEBEE', 'ABBBEEBE', 'A', 'ABBBEEBE', 'A', 'AB', 'ABBEB', 'ABBBEB', 'ABF', 'AFCFC', 'A', 'A', 'AB', 'AB', 'AB', 'AB', 'A', 'AB', 'AB', 'AB', 'AB', 'AB', 'AB', 'AB', 'AB', 'AB', 'A', 'AB', 'AB', 'AB', 'AB', 'A', 'AB', 'AB', 'AB', 'AB', 'AB', 'A', 'ABEED', 'A', 'AB', 'AB', 'A', 'A', 'A', 'AB', 'A', 'AB', 'A', 'A', 'ABBBBBBBBBB', 'A', 'A', 'A']]\n",
      "Set count: 1 Score: 0.14\n",
      "--------------------------------------------------------------------------------\n"
     ]
    },
    {
     "name": "stdout",
     "output_type": "stream",
     "text": [
      "001100010\n",
      "0 (236, 'H') \t0.21\n",
      "1 (32, 'G') \t0.25\n",
      "2 (64, 'E') \t0.23\n",
      "3 (14, 'B') \t0.24\n",
      "4 (6, 'D') \t0.25\n",
      "[['HG', 'HG', 'HG', 'HG', 'HG', 'HG', 'HG', 'HGGG', 'HG', 'HG', 'HG', 'HG', 'HG', 'HG', 'HG', 'HG', 'HGGG', 'HG', 'HG', 'HG', 'HG', 'HG', 'HG', 'HGGG', 'HG', 'HG', 'HG', 'HG', 'HG', 'HGGG', 'HG', 'HG', 'HGGG', 'HG', 'HG', 'HG', 'HG', 'HG', 'HG', 'HG', 'HG', 'HG', 'HG', 'HG', 'HG', 'HG', 'HG', 'HG', 'HG', 'HG', 'HG', 'HG', 'HG', 'HG', 'HG', 'HG', 'HG', 'HGGG', 'HGGG', 'HGGGGGGGGGGGGGGGGGGGGGGGGGGGGGGGGGGGGGGGGGGGGGGGGGGGGGGG', 'H', 'H', 'H', 'H', 'H', 'H', 'H', 'H', 'H', 'H', 'H', 'H', 'H', 'H', 'H', 'H', 'H', 'H', 'H', 'H', 'H', 'HGG', 'H', 'H', 'H', 'H', 'H', 'H', 'H', 'H', 'H', 'H', 'H', 'H', 'H', 'H', 'H', 'H', 'H', 'H', 'H', 'H', 'H', 'H', 'H', 'HGG', 'H', 'H', 'H', 'H', 'H', 'H', 'H', 'H', 'H', 'H', 'H', 'H', 'H', 'H', 'H', 'H', 'H', 'H', 'H', 'H', 'H', 'H', 'H', 'H', 'HGG', 'H', 'H', 'H', 'H', 'H', 'H', 'H', 'H', 'H', 'H', 'H', 'H', 'H', 'H', 'H', 'H', 'H', 'H', 'HGG', 'H', 'H', 'H', 'H', 'H', 'H', 'H', 'H', 'H', 'H', 'HGG', 'H', 'H', 'H', 'H', 'H', 'H', 'H', 'H', 'H', 'H', 'H', 'H', 'H', 'H', 'H', 'H', 'H', 'H', 'H', 'H', 'H', 'H', 'H', 'H', 'H', 'H', 'H', 'H', 'H', 'H', 'H', 'H', 'H', 'H', 'H', 'H', 'H', 'H', 'H', 'H', 'H', 'H', 'H', 'H', 'H', 'H', 'H', 'H', 'H', 'H', 'H', 'H', 'H', 'H', 'H', 'H', 'H', 'HGG', 'H', 'H', 'H', 'H', 'H', 'H', 'H', 'H', 'HGG', 'H', 'H', 'H', 'H', 'H', 'H', 'H', 'HGGGGGGGGGGGGGGGGGGGGGGGGGGGGGGGGGGGGGGGGGGIIIIIIIIIGGGGEEEE'], ['G', 'G', 'G', 'G', 'G', 'G', 'G', 'G', 'G', 'G', 'G', 'G', 'G', 'G', 'G', 'G', 'G', 'G', 'G', 'G', 'G', 'G', 'G', 'G', 'G', 'G', 'G', 'G', 'G', 'G', 'G', 'G'], ['E', 'E', 'E', 'E', 'E', 'EF', 'E', 'E', 'E', 'E', 'E', 'E', 'E', 'EF', 'E', 'E', 'E', 'E', 'E', 'E', 'E', 'EF', 'E', 'E', 'E', 'E', 'E', 'E', 'E', 'EF', 'E', 'E', 'E', 'E', 'E', 'E', 'E', 'EF', 'E', 'E', 'E', 'E', 'E', 'E', 'E', 'EF', 'E', 'E', 'E', 'E', 'E', 'E', 'E', 'E', 'E', 'E', 'E', 'E', 'E', 'E', 'E', 'EDDDDDDCJDDDDDDDDJDDDDDDDDDDDDDDDDDDJDDDDDDDDJDDDDDDDDDDJFCCCCCCCCC', 'E', 'EKKKKKKCCJLLLLLLLLLLCCJ'], ['BA', 'B', 'B', 'B', 'B', 'B', 'B', 'B', 'B', 'B', 'B', 'B', 'B', 'BCDDDD'], ['D', 'D', 'D', 'D', 'D', 'DECFF']]\n",
      "Set count: 5 Score: 0.44\n",
      "--------------------------------------------------------------------------------\n",
      "================================================================================ \n",
      "Progress: 20 %\t 94 / 466\n",
      "================================================================================\n",
      "================================================================================ \n",
      "Progress: 30 %\t 140 / 466\n",
      "================================================================================\n",
      "011000010\n",
      "0 (658, 'A') \t0.25\n",
      "[['A', 'A', 'A', 'A', 'A', 'A', 'A', 'A', 'A', 'A', 'A', 'A', 'A', 'A', 'A', 'A', 'A', 'A', 'A', 'A', 'A', 'A', 'A', 'A', 'A', 'A', 'A', 'A', 'A', 'A', 'A', 'A', 'A', 'A', 'A', 'A', 'A', 'A', 'A', 'A', 'A', 'A', 'A', 'A', 'A', 'A', 'A', 'A', 'A', 'A', 'A', 'A', 'A', 'A', 'A', 'A', 'A', 'A', 'A', 'A', 'A', 'A', 'A', 'A', 'A', 'A', 'A', 'A', 'A', 'A', 'A', 'A', 'A', 'A', 'A', 'A', 'A', 'A', 'A', 'A', 'A', 'A', 'A', 'A', 'A', 'A', 'A', 'A', 'A', 'A', 'A', 'A', 'A', 'A', 'A', 'A', 'A', 'A', 'A', 'A', 'A', 'A', 'A', 'A', 'A', 'A', 'A', 'A', 'A', 'A', 'A', 'A', 'A', 'A', 'A', 'A', 'A', 'A', 'A', 'A', 'A', 'A', 'A', 'A', 'A', 'A', 'A', 'A', 'A', 'A', 'A', 'A', 'A', 'A', 'A', 'A', 'A', 'A', 'A', 'A', 'A', 'A', 'A', 'A', 'A', 'A', 'A', 'A', 'A', 'A', 'A', 'A', 'A', 'A', 'A', 'A', 'A', 'A', 'A', 'A', 'A', 'A', 'A', 'A', 'A', 'A', 'A', 'A', 'A', 'A', 'A', 'A', 'A', 'A', 'A', 'A', 'A', 'A', 'A', 'A', 'A', 'A', 'A', 'A', 'A', 'A', 'A', 'A', 'A', 'A', 'A', 'A', 'A', 'A', 'A', 'A', 'A', 'A', 'A', 'A', 'A', 'A', 'A', 'A', 'A', 'A', 'A', 'A', 'A', 'A', 'A', 'A', 'A', 'A', 'A', 'A', 'A', 'A', 'A', 'A', 'A', 'A', 'A', 'A', 'A', 'A', 'A', 'A', 'A', 'A', 'A', 'A', 'A', 'A', 'A', 'A', 'A', 'A', 'A', 'A', 'A', 'A', 'A', 'A', 'A', 'A', 'A', 'A', 'A', 'A', 'A', 'A', 'A', 'A', 'A', 'A', 'A', 'A', 'A', 'A', 'A', 'A', 'A', 'A', 'A', 'A', 'A', 'A', 'A', 'A', 'A', 'A', 'A', 'A', 'A', 'A', 'A', 'A', 'A', 'A', 'A', 'A', 'A', 'A', 'A', 'A', 'A', 'A', 'A', 'A', 'A', 'A', 'A', 'A', 'A', 'A', 'A', 'A', 'A', 'A', 'A', 'A', 'A', 'A', 'A', 'A', 'A', 'A', 'A', 'A', 'A', 'A', 'A', 'A', 'A', 'A', 'A', 'A', 'A', 'A', 'A', 'A', 'A', 'A', 'A', 'A', 'A', 'A', 'A', 'A', 'A', 'A', 'A', 'A', 'A', 'A', 'A', 'A', 'A', 'A', 'A', 'A', 'A', 'A', 'A', 'A', 'A', 'A', 'A', 'A', 'A', 'A', 'A', 'A', 'A', 'A', 'A', 'A', 'A', 'A', 'A', 'A', 'A', 'A', 'A', 'A', 'A', 'A', 'A', 'A', 'A', 'A', 'A', 'A', 'A', 'A', 'A', 'A', 'A', 'A', 'A', 'A', 'A', 'A', 'A', 'A', 'A', 'A', 'A', 'A', 'A', 'A', 'A', 'A', 'A', 'A', 'A', 'A', 'A', 'A', 'A', 'A', 'A', 'A', 'A', 'A', 'A', 'A', 'A', 'A', 'A', 'A', 'A', 'A', 'A', 'A', 'A', 'A', 'A', 'A', 'A', 'A', 'A', 'A', 'A', 'A', 'A', 'A', 'A', 'A', 'A', 'A', 'A', 'A', 'A', 'A', 'A', 'A', 'A', 'A', 'A', 'A', 'A', 'A', 'A', 'A', 'A', 'A', 'A', 'A', 'A', 'A', 'A', 'A', 'A', 'A', 'A', 'A', 'A', 'A', 'A', 'A', 'A', 'A', 'A', 'A', 'A', 'A', 'A', 'A', 'A', 'A', 'A', 'A', 'A', 'A', 'A', 'A', 'A', 'A', 'A', 'A', 'A', 'A', 'A', 'A', 'A', 'A', 'A', 'A', 'A', 'A', 'A', 'A', 'A', 'A', 'A', 'A', 'A', 'A', 'A', 'A', 'A', 'A', 'A', 'A', 'A', 'A', 'A', 'A', 'A', 'A', 'A', 'A', 'A', 'A', 'A', 'A', 'A', 'A', 'A', 'A', 'A', 'A', 'A', 'A', 'A', 'A', 'A', 'A', 'A', 'A', 'A', 'A', 'A', 'A', 'A', 'A', 'A', 'A', 'A', 'A', 'A', 'A', 'A', 'A', 'A', 'A', 'A', 'A', 'A', 'A', 'A', 'A', 'A', 'A', 'A', 'A', 'A', 'A', 'A', 'A', 'A', 'A', 'A', 'A', 'A', 'A', 'A', 'A', 'A', 'A', 'A', 'A', 'A', 'A', 'A', 'A', 'A', 'A', 'A', 'A', 'A', 'A', 'A', 'A', 'A', 'A', 'A', 'A', 'A', 'A', 'A', 'A', 'A', 'A', 'A', 'A', 'A', 'A', 'A', 'A', 'A', 'A', 'A', 'A', 'A', 'A', 'A', 'A', 'A', 'A', 'A', 'A', 'A', 'A', 'A', 'A', 'A', 'A', 'A', 'A', 'A', 'A', 'A', 'A', 'A', 'A', 'A', 'A', 'A', 'A', 'A', 'A', 'A', 'A', 'A', 'A', 'A', 'A', 'A', 'A', 'A', 'A', 'A', 'A', 'A', 'A', 'A', 'A', 'A', 'A', 'A', 'A', 'A', 'A', 'A', 'A']]\n",
      "Set count: 1 Score: 0.25\n",
      "--------------------------------------------------------------------------------\n",
      "================================================================================ \n",
      "Progress: 40 %\t 187 / 466\n",
      "================================================================================\n",
      "================================================================================ \n",
      "Progress: 50 %\t 233 / 466\n",
      "================================================================================\n",
      "================================================================================ \n",
      "Progress: 60 %\t 280 / 466\n",
      "================================================================================\n",
      "================================================================================ \n",
      "Progress: 70 %\t 327 / 466\n",
      "================================================================================\n",
      "================================================================================ \n",
      "Progress: 80 %\t 373 / 466\n",
      "================================================================================\n",
      "================================================================================ \n",
      "Progress: 90 %\t 420 / 466\n",
      "================================================================================\n",
      "================================================================================ \n",
      "Progress: 95 %\t 443 / 466\n",
      "================================================================================\n",
      "================================================================================ \n",
      "Progress: 99 %\t 462 / 466\n",
      "================================================================================\n",
      "================================================================================ \n",
      "Progress: 100 %\t 466 / 466\n",
      "================================================================================\n",
      "Best: {'option': '000001101', 'score': 0.5385921941240265, 'Set count': 4}\n"
     ]
    }
   ],
   "source": [
    "best = {'option':'000000000', 'score': 0}\n",
    "if find_encode == 1:\n",
    "    check_dict = {}\n",
    "    if brute == 1:\n",
    "        candidate = []\n",
    "        for i in range(1, 512):\n",
    "            tmp = binary('{0:b}'.format(i), 9)\n",
    "            if len(node_op.find_all_indexes(tmp, '1')) > 2:\n",
    "                candidate.append(tmp)\n",
    "    else:\n",
    "        #candidate = ['000110100', '000101010', '000101001']\n",
    "        with open('./good_encode.txt', 'rb') as f:\n",
    "            candidate = pickle.load(f)\n",
    "    total_progress = len(candidate)\n",
    "    progress = 0\n",
    "    progress_line = [0, 1, 5, 10, 20, 30, 40, 50, 60, 70, 80, 90, 95, 99, 100]\n",
    "    line_count = 0\n",
    "    check_dict = {}\n",
    "    for option in candidate:\n",
    "        progress += 1\n",
    "        if (progress/float(total_progress))*100 >= progress_line[line_count]:\n",
    "            print(\"=\"*80, \"\\nProgress:\", progress_line[line_count], \"%\\t\", progress, \"/\", total_progress)\n",
    "            print(\"=\"*80)\n",
    "            line_count += 1\n",
    "        encode_option = option\n",
    "        encode_col = [tag, ids, classes, pathid, parentid, tecid, cecid, encoding, col]\n",
    "        \"\"\"\n",
    "        Node op\n",
    "        ==================================================\n",
    "        \"\"\"\n",
    "        node_encode = node_op.encode_node(encode_col, encode_option, len(pathid))\n",
    "        whole_string = node_encode[0]\n",
    "        node_dict = node_encode[1] # code -> node num\n",
    "        index_dict = node_encode[2] # code -> first index\n",
    "        \"\"\"\n",
    "        ===================================================\n",
    "        \"\"\"\n",
    "        \n",
    "        inv_node_dict = {v: k for k, v in node_dict.items()} # node num -> code\n",
    "        inv_index_dict = {v: k for k, v in index_dict.items()} # index num -> code\n",
    "        if seg_method == 0:\n",
    "            segments = node_op.segment_mt(unique_mt, whole_string)\n",
    "            record_seg = node_op.mt_record_seg(segments, ignore_len, index_dict, inv_node_dict, MINIMAL_REPEAT)\n",
    "        if seg_method == 1:\n",
    "            segments, record_seg = node_op.segment_top(whole_string, ignore_len, index_dict, inv_node_dict, MINIMAL_REPEAT)\n",
    "        \n",
    "        all_seqs = node_op.get_all_seq(record_seg, segments)\n",
    "        if len(record_seg) > 0 and str(all_seqs) not in check_dict.keys():\n",
    "            check_dict[str(all_seqs)] = 1\n",
    "            seq_score = []\n",
    "            for seg_idx in range(len(all_seqs)):\n",
    "                appear = {}\n",
    "                score = 0.0\n",
    "                length_min_max = [999, 0]\n",
    "                for pattern in all_seqs[seg_idx][:-1]:\n",
    "                    if len(pattern) < length_min_max[0]:\n",
    "                        length_min_max[0] = len(pattern)\n",
    "                    if len(pattern) > length_min_max[1]:\n",
    "                        length_min_max[1] = len(pattern)\n",
    "                    for c in pattern:\n",
    "                        if c not in appear.keys():\n",
    "                            appear[c] = 1\n",
    "                        else: appear[c] += 1\n",
    "                for pattern in all_seqs[seg_idx][:-1]:\n",
    "                    count = 0\n",
    "                    for c in pattern:\n",
    "                        if appear[c] == len(all_seqs[seg_idx][:-1]):\n",
    "                            count += 1\n",
    "                    score += count/ len(pattern)\n",
    "                score = score/ len(all_seqs[seg_idx][:-1]) \n",
    "                if length_min_max[1] == 1 or length_min_max[0] == 1:\n",
    "                    seq_score.append(score/4)\n",
    "                elif length_min_max[1] == length_min_max[0]:\n",
    "                    seq_score.append(score)\n",
    "                else:\n",
    "                    seq_score.append(score/(length_min_max[1] - length_min_max[0]))\n",
    "            total_score = 0\n",
    "            print(option)\n",
    "            for s in range(len(record_seg)):\n",
    "                print(s, record_seg[s][1], \"\\t%.2f\" %(seq_score[s]))\n",
    "                repeat_time = record_seg[s][1][0]\n",
    "                total_score += seq_score[s]/ pow(2, s)\n",
    "            print(all_seqs)\n",
    "            print(\"Set count:\", len(record_seg), \"Score:\", \"%.2f\" %(total_score))\n",
    "            print('-'*80)\n",
    "            average = total_score\n",
    "            if average >= best['score']:\n",
    "                print(\"\\nBest Update\\n\")\n",
    "                best['score'] = average\n",
    "                best['Set count'] = len(record_seg)\n",
    "                best['option'] = option\n",
    "            \"\"\"if repeat_time < best['repeat_time']:\n",
    "                best['score'] = average\n",
    "                best['Set count'] = len(record_seg)\n",
    "                best['option'] = option\n",
    "            elif repeat_time == best['repeat_time'] and total_score > best['score']:\n",
    "                best['score'] = average\n",
    "                best['Set count'] = len(record_seg)\n",
    "                best['option'] = option\"\"\"\n",
    "print(\"Best:\", best)"
   ]
  },
  {
   "cell_type": "code",
   "execution_count": 8,
   "metadata": {},
   "outputs": [
    {
     "name": "stdout",
     "output_type": "stream",
     "text": [
      "Example: \n",
      "51-69-309MT"
     ]
    }
   ],
   "source": [
    "if find_encode == 1:\n",
    "    encode_option = best['option']\n",
    "else:\n",
    "    #encode_option = '000110100'\n",
    "    encode_option = '000011010'\n",
    "\n",
    "encode_col = [tag, ids, classes, pathid, parentid, tecid, cecid, encoding, col]\n",
    "\"\"\"\n",
    "Node op\n",
    "==================================================\n",
    "\"\"\"\n",
    "node_encode = node_op.encode_node(encode_col, encode_option, len(pathid))\n",
    "whole_string = node_encode[0]\n",
    "node_dict = node_encode[1] # code -> node num\n",
    "index_dict = node_encode[2] # code -> first index\n",
    "\"\"\"\n",
    "===================================================\n",
    "\"\"\"\n",
    "print(\"Example: \")\n",
    "\n",
    "for col_num in range(len(encode_col)):\n",
    "    if encode_option[col_num] == '1':\n",
    "        print(encode_col[col_num][node], end='')\n",
    "inv_node_dict = {v: k for k, v in node_dict.items()} # node num -> code\n",
    "inv_index_dict = {v: k for k, v in index_dict.items()} # index num -> code\n",
    "#print(\"\\nConvert to Unicode String:\\n\", whole_string)"
   ]
  },
  {
   "cell_type": "markdown",
   "metadata": {},
   "source": [
    "# Segment whole string"
   ]
  },
  {
   "cell_type": "code",
   "execution_count": 9,
   "metadata": {},
   "outputs": [],
   "source": [
    "if seg_method == 0:\n",
    "    segments = node_op.segment_mt(unique_mt, whole_string)\n",
    "    record_seg = node_op.mt_record_seg(segments, ignore_len, index_dict, inv_node_dict, MINIMAL_REPEAT)\n",
    "if seg_method == 1:\n",
    "    segments, record_seg = node_op.segment_top(whole_string, ignore_len, index_dict, inv_node_dict, MINIMAL_REPEAT)"
   ]
  },
  {
   "cell_type": "code",
   "execution_count": 10,
   "metadata": {},
   "outputs": [
    {
     "name": "stdout",
     "output_type": "stream",
     "text": [
      "[['ģ', 'ģĤĥĦħĨĩĪīĬĭĮįİıĲĳĴĵĶ\\x90\\x91ķ', 'ģ', 'ģĸĹĺĻļĽľĿŀŁłŃńŅņŇňŉŊŋŌ¤¥ōŎŏŐŎő', 'ģ', 'ģŒœŔŕŖŗŘřŚśŜŝŞşŠšŢ´µţŎŤťŦŠŧňŨŊũŪūŬŭŮůŰű¿ÀŲŎųŴŵŶŷŸŹźŻÇÈżŎŽžſƀƁƂƃƄƅƆƇƈƉƊƋƌƍƎƏƐƑƒƓƔƕƖƗƘƙƚƛƜƝƞƟƠơƢƣƤƥƦƧƨƩƪƫƬƭƮƯưƱƲƳƴûüƵƶƷŎƸƹŬƺƻþÿƼ', 'ģ', 'ģƽƾƿǀǁĂăĄąĆćĈĉĊċČčĎćďĐđĒēĔĕĖėćĘęĚěĜĝĞğĠġǂǃǄǃǅǃǆǃǇǈǉǊǇǋǌǍǎǏǐǑǐǒǓǔǕǖǗǘǙǚǛǜǝǞǟǠǡǢǣǤǥǦǞǧǨǩǪǫǬǭǮǞǯǰǱǲǳǴǵǶǞǷǸǹǺǻǼǽǾǞǿȀȁȂȃȄȅȆǞȇȈǨǩǫǬǞǯǰǱǳ'], ['ćĈĉĊċČčĎ', 'ćďĐđĒēĔĕĖė', 'ćĘęĚěĜĝĞğĠġlmn'], ['ɓɔɕɖɗɘəɚɛɜɝɞɟ', 'ɓɔɠ'], ['\\xa0¡¢£¤¥¦§¨©ª«¬\\xad®¯°±²³´µ²¶', '\\xa0·¢¸¹º»¼½¾¿ÀÁÂÃÄÅÆÇÈÉÊËÌÍÎÏÐ']]\n"
     ]
    }
   ],
   "source": [
    "all_seqs = node_op.get_all_seq(record_seg, segments)\n",
    "print(all_seqs)"
   ]
  },
  {
   "cell_type": "markdown",
   "metadata": {},
   "source": [
    "# MSA"
   ]
  },
  {
   "cell_type": "code",
   "execution_count": 11,
   "metadata": {
    "scrolled": true
   },
   "outputs": [
    {
     "name": "stdout",
     "output_type": "stream",
     "text": [
      "First round MSA\n",
      " ====================================================================================================\n",
      "ģ \n",
      "\t\t->  ģ-----------------------------------------------------------------------------------------------------------------------------\n",
      "ģĤĥĦħĨĩĪīĬĭĮįİıĲĳĴĵĶķ \n",
      "\t\t->  ģĤĥĦħĨĩĪīĬĭĮįİıĲĳĴĵĶķ-------------------------------------------------------------------------------------------------------\n",
      "ģ \n",
      "\t\t->  ģ-----------------------------------------------------------------------------------------------------------------------------\n",
      "ģĸĹĺĻļĽľĿŀŁłŃńŅņŇňŉŊŋŌ¤¥ōŎŏŐŎő \n",
      "\t\t->  ģĸĹĺĻļĽľĿŀŁłŃńŅņŇňŉŊŋŌ¤¥ōŎŏŐŎő------------------------------------------------------------------------------------------------\n",
      "ģ \n",
      "\t\t->  ģ-----------------------------------------------------------------------------------------------------------------------------\n",
      "ģŒœŔŕŖŗŘřŚśŜŝŞşŠšŢ´µţŎŤťŦŠŧňŨŊũŪūŬŭŮůŰű¿ÀŲŎųŴŵŶŷŸŹźŻÇÈżŎŽžſƀƁƂƃƄƅƆƇƈƉƊƋƌƍƎƏƐƑƒƓƔƕƖƗƘƙƚƛƜƝƞƟƠơƢƣƤƥƦƧƨƩƪƫƬƭƮƯưƱƲƳƴûüƵƶƷŎƸƹŬƺƻþÿƼ \n",
      "\t\t->  ģŒœŔŕŖŗŘřŚśŜŝŞşŠšŢ´µţŎŤťŦŠŧňŨŊũŪūŬŭŮůŰű¿ÀŲŎųŴŵŶŷŸŹźŻÇÈżŎŽžſƀƁƂƃƄƅƆƇƈƉƊƋƌƍƎƏƐƑƒƓƔƕƖƗƘƙƚƛƜƝƞƟƠơƢƣƤƥƦƧƨƩƪƫƬƭƮƯưƱƲƳƴûüƵƶƷŎƸƹŬƺƻþÿƼ\n",
      "ģ \n",
      "\t\t->  ģ-----------------------------------------------------------------------------------------------------------------------------\n",
      "First round MSA\n",
      " ====================================================================================================\n",
      "ćĈĉĊċČčĎ \n",
      "\t\t->  ć--ĈĉĊċČčĎ\n",
      "ćďĐđĒēĔĕĖė \n",
      "\t\t->  ćďĐđĒēĔĕĖė\n",
      "First round MSA\n",
      " ====================================================================================================\n",
      "ɓɔɕɖɗɘəɚɛɜɝɞɟ \n",
      "\t\t->  ɓɔɕɖɗɘəɚɛɜɝɞɟ\n",
      "First round MSA\n",
      " ====================================================================================================\n",
      " ¡¢£¤¥¦§¨©ª«¬­®¯°±²³´µ²¶ \n",
      "\t\t->   ¡¢£¤¥¦§¨©ª«¬­®¯°±²³´µ²¶\n"
     ]
    }
   ],
   "source": [
    "import cstar\n",
    "removed_whole_string = whole_string\n",
    "for seg_idx in range(len(all_seqs)):\n",
    "    json_result = []\n",
    "    print(\"First round MSA\\n\", \"=\"*100)\n",
    "    scores = [5, -4, -2] # matchScore, mismatchScore, gapScore\n",
    "    if len(all_seqs[seg_idx][:-1]) == 1:\n",
    "        msa = all_seqs[seg_idx][:-1]\n",
    "    else:\n",
    "        msa = cstar.CenterStar(scores, all_seqs[seg_idx][:-1]).msa()\n",
    "    trans_dict = {}\n",
    "    last_c = '-'\n",
    "    end_idx = 0\n",
    "\n",
    "    for i in range(len(msa)):\n",
    "        if msa[i][-1] != '-' and last_c not in trans_dict.keys() and drop_last == 0:\n",
    "            last_c = msa[i][-1]\n",
    "            trans_dict[last_c] = msa[i].replace('-', '')\n",
    "        if msa[i].replace('-', '') not in trans_dict.keys():\n",
    "            trans_dict[msa[i].replace('-', '')] = msa[i]\n",
    "        else: pass\n",
    "    for i in all_seqs[seg_idx][:-1]: print(i, \"\\n\\t\\t-> \", trans_dict[i])\n",
    "    if drop_last == 0:\n",
    "        print('='*100, \"\\nSecond round MSA\\n\")\n",
    "        msa_2 = cstar.CenterStar(scores, msa+[all_seqs[seg_idx][-1]]).msa()\n",
    "        trans_dict_2 = {}\n",
    "\n",
    "        for i in range(len(msa_2)):\n",
    "            if msa_2[i].replace('-', '') not in trans_dict_2.keys():\n",
    "                trans_dict_2[msa_2[i].replace('-', '')] = msa_2[i]\n",
    "            else: pass\n",
    "        for idx in range(len(trans_dict_2[trans_dict[last_c]])):\n",
    "            if trans_dict_2[trans_dict[last_c]][idx] == last_c:\n",
    "                end_idx = idx\n",
    "        for i in all_seqs[seg_idx]:\n",
    "            trans_dict_2[i] = trans_dict_2[i][:end_idx+1]\n",
    "            tmp = trans_dict_2[i][:end_idx+1].replace('-', '')\n",
    "            removed_whole_string = removed_whole_string.replace(tmp, '-'*len(tmp))\n",
    "            print(i, \"\\n\\t\\t-> \", trans_dict_2[i])\n",
    "\n",
    "        json_schema = [{} for i in range(len(trans_dict_2[list(trans_dict_2.keys())[0]]))]\n",
    "        schema_check = [0 for i in range(len(trans_dict_2[list(trans_dict_2.keys())[0]]))]\n",
    "    else:\n",
    "        json_schema = [{} for i in range(len(trans_dict[list(trans_dict.keys())[0]]))]\n",
    "        schema_check = [0 for i in range(len(trans_dict[list(trans_dict.keys())[0]]))]\n",
    "\n",
    "    with open(os.path.join(current_path, \"Output\", \"Set-\" + str(seg_idx) + \".txt\"), 'w', encoding='utf-8') as file:\n",
    "        for page in range(len(others)):\n",
    "            json_page = []\n",
    "            output_dict = {} # Record which pattern is used\n",
    "            if drop_last == 1:\n",
    "                length = len(all_seqs[seg_idx]) - 1\n",
    "            else:\n",
    "                length = len(all_seqs[seg_idx])\n",
    "            for s in range(length):\n",
    "                write_tmp = []\n",
    "                json_set = []\n",
    "                write_tmp.append(str(page) + \"-\" + str(seg_idx) + \"-\" + str(s) + \"\\t\")\n",
    "                tmp = node_op.find_all_indexes(whole_string, all_seqs[seg_idx][s])\n",
    "                if all_seqs[seg_idx][s] not in output_dict.keys():\n",
    "                    output_dict[all_seqs[seg_idx][s]] = 0\n",
    "                else:\n",
    "                    output_dict[all_seqs[seg_idx][s]] += 1\n",
    "                #print(\"start:\", tmp[output_dict[seqs[s]]], others[page][tmp[output_dict[seqs[s]]]])\n",
    "                idx = 0\n",
    "                if drop_last == 0:\n",
    "                    for c in range(len(trans_dict_2[all_seqs[seg_idx][s]])):\n",
    "                        if trans_dict_2[all_seqs[seg_idx][s]][c] == '-':\n",
    "                            write_tmp.append('\\t')\n",
    "                            json_set.append('')\n",
    "                        else:\n",
    "                            write_tmp.append(others[page][tmp[output_dict[all_seqs[seg_idx][s]]]+idx][:others[page][tmp[output_dict[all_seqs[seg_idx][s]]]+idx].find(\" ::\")] + \"\\t\")\n",
    "                            json_set.append(others[page][tmp[output_dict[all_seqs[seg_idx][s]]]+idx][:others[page][tmp[output_dict[all_seqs[seg_idx][s]]]+idx].find(\" ::\")])\n",
    "                            if schema_check[c] == 0:\n",
    "                                schema_check[c] = 1\n",
    "                                json_schema[c][\"PathId\"] = pathid[tmp[output_dict[all_seqs[seg_idx][s]]]+idx]\n",
    "                                json_schema[c][\"ParentId\"] = parentid[tmp[output_dict[all_seqs[seg_idx][s]]]+idx].split(':')[0].replace('\\\"', '')\n",
    "                                if encoding[tmp[output_dict[all_seqs[seg_idx][s]]]+idx] == ' ':\n",
    "                                    json_schema[c][\"Encoding\"] = ''\n",
    "                                else:\n",
    "                                    json_schema[c][\"Encoding\"] = int(encoding[tmp[output_dict[all_seqs[seg_idx][s]]]+idx])\n",
    "                                json_schema[c][\"CECId\"] = cecid[tmp[output_dict[all_seqs[seg_idx][s]]]+idx]\n",
    "                                json_schema[c][\"TECId\"] = tecid[tmp[output_dict[all_seqs[seg_idx][s]]]+idx]\n",
    "                                json_schema[c][\"ColType\"] = col[tmp[output_dict[all_seqs[seg_idx][s]]]+idx]\n",
    "                            idx += 1\n",
    "                    if len(list(c for c in write_tmp if c != '\\t' and c != '')) != 1:\n",
    "                        for word in write_tmp:\n",
    "                            file.write(word)\n",
    "                        file.write('\\n')\n",
    "                else:\n",
    "                    for c in range(len(trans_dict[all_seqs[seg_idx][s]])):\n",
    "                        if trans_dict[all_seqs[seg_idx][s]][c] == '-':\n",
    "                            write_tmp.append('\\t')\n",
    "                            json_set.append('')\n",
    "                        else:\n",
    "                            write_tmp.append(others[page][tmp[output_dict[all_seqs[seg_idx][s]]]+idx][:others[page][tmp[output_dict[all_seqs[seg_idx][s]]]+idx].find(\" ::\")] + \"\\t\")\n",
    "                            json_set.append(others[page][tmp[output_dict[all_seqs[seg_idx][s]]]+idx][:others[page][tmp[output_dict[all_seqs[seg_idx][s]]]+idx].find(\" ::\")])\n",
    "                            if schema_check[c] == 0:\n",
    "                                schema_check[c] = 1\n",
    "                                json_schema[c][\"PathId\"] = pathid[tmp[output_dict[all_seqs[seg_idx][s]]]+idx]\n",
    "                                json_schema[c][\"ParentId\"] = parentid[tmp[output_dict[all_seqs[seg_idx][s]]]+idx].split(':')[0].replace('\\\"', '')\n",
    "                                if encoding[tmp[output_dict[all_seqs[seg_idx][s]]]+idx] == ' ':\n",
    "                                    json_schema[c][\"Encoding\"] = ''\n",
    "                                else:\n",
    "                                    json_schema[c][\"Encoding\"] = int(encoding[tmp[output_dict[all_seqs[seg_idx][s]]]+idx])\n",
    "                                json_schema[c][\"CECId\"] = cecid[tmp[output_dict[all_seqs[seg_idx][s]]]+idx]\n",
    "                                json_schema[c][\"TECId\"] = tecid[tmp[output_dict[all_seqs[seg_idx][s]]]+idx]\n",
    "                                json_schema[c][\"ColType\"] = col[tmp[output_dict[all_seqs[seg_idx][s]]]+idx]\n",
    "                            idx += 1\n",
    "                    if len(list(c for c in write_tmp if c != '\\t' and c != '')) != 1:\n",
    "                        for word in write_tmp:\n",
    "                            file.write(word)\n",
    "                        file.write('\\n')\n",
    "                json_page.append(json_set)\n",
    "            json_result.append(json_page)\n",
    "    with open(os.path.join(current_path, \"Output\", \"Set-\" + str(seg_idx) + \"_schema.json\"), 'w') as json_file:\n",
    "        json.dump(json_result, json_file)\n",
    "    with open(os.path.join(current_path, \"Output\", \"Set-\" + str(seg_idx) + \"_schema.json\"), 'w') as json_file:\n",
    "        json.dump(json_schema, json_file)"
   ]
  },
  {
   "cell_type": "markdown",
   "metadata": {},
   "source": [
    "# Modified TableA Output"
   ]
  },
  {
   "cell_type": "code",
   "execution_count": 12,
   "metadata": {},
   "outputs": [],
   "source": [
    "json_table = []\n",
    "json_schema = []\n",
    "for page in range(len(others)):\n",
    "    json_page = []\n",
    "    set_count = 0\n",
    "    check = False\n",
    "    for node in range(len(removed_whole_string)):\n",
    "        schema_dict = {}\n",
    "        if removed_whole_string[node] == '-':\n",
    "            if check == False:\n",
    "                check = True\n",
    "                set_count += 1\n",
    "                json_page.append(str(set_count) + '-' + str(page))\n",
    "                schema_dict[\"PathId\"] = \"\"\n",
    "                schema_dict[\"ParentId\"] = \"\"\n",
    "                schema_dict[\"Encoding\"] = -1\n",
    "                schema_dict[\"CECId\"] = \"\"\n",
    "                schema_dict[\"TECId\"] = \"\"\n",
    "                schema_dict[\"ColType\"] = \"MR\"\n",
    "                json_schema.append(schema_dict)\n",
    "            else: pass\n",
    "        else:\n",
    "            if check == True:\n",
    "                check = False\n",
    "            json_page.append(others[page][node][:others[page][node].find(\" ::\")])\n",
    "            schema_dict[\"PathId\"] = pathid[node]\n",
    "            schema_dict[\"ParentId\"] = parentid[node].split(':')[0].replace('\\\"', '')\n",
    "            if encoding[node] != ' ':\n",
    "                schema_dict[\"Encoding\"] = int(encoding[node])\n",
    "            else:\n",
    "                schema_dict[\"Encoding\"] = ''\n",
    "            schema_dict[\"CECId\"] = cecid[node]\n",
    "            schema_dict[\"TECId\"] = tecid[node]\n",
    "            schema_dict[\"ColType\"] = col[node]\n",
    "            json_schema.append(schema_dict)\n",
    "    json_table.append(json_page)\n",
    "with open(os.path.join(current_path, \"Output\", \"TableA.json\"), 'w') as json_file:\n",
    "    json.dump(json_table, json_file)\n",
    "with open(os.path.join(current_path, \"Output\", \"SchemaTableA.json\"), 'w') as json_file:\n",
    "    json.dump(json_schema, json_file)"
   ]
  },
  {
   "cell_type": "markdown",
   "metadata": {},
   "source": [
    "# ==============================="
   ]
  },
  {
   "cell_type": "code",
   "execution_count": 13,
   "metadata": {},
   "outputs": [],
   "source": [
    "with open('./good_encode.txt', 'rb') as f:\n",
    "    candidate = pickle.load(f)\n",
    "if best['option'] not in candidate and brute == 1:\n",
    "    with open('./good_encode.txt', 'wb') as f:\n",
    "        candidate.append(best['option'])\n",
    "        print(\"Append:\", best['option'])\n",
    "        pickle.dump(candidate, f)"
   ]
  },
  {
   "cell_type": "code",
   "execution_count": 14,
   "metadata": {
    "scrolled": true
   },
   "outputs": [
    {
     "data": {
      "text/plain": [
       "['000110100',\n",
       " '000101010',\n",
       " '000101001',\n",
       " '000001011',\n",
       " '001100010',\n",
       " '000110010',\n",
       " '000110001',\n",
       " '001010010',\n",
       " '000011010',\n",
       " '000000111',\n",
       " '011000010',\n",
       " '001000011',\n",
       " '000001000',\n",
       " '000001010',\n",
       " '000001101',\n",
       " '000001110',\n",
       " '000010110',\n",
       " '000010011',\n",
       " '111100010',\n",
       " '111111011',\n",
       " '111110111']"
      ]
     },
     "execution_count": 14,
     "metadata": {},
     "output_type": "execute_result"
    }
   ],
   "source": [
    "candidate"
   ]
  },
  {
   "cell_type": "code",
   "execution_count": 15,
   "metadata": {},
   "outputs": [],
   "source": [
    "if brute == 1:\n",
    "    with open('./good_encode.txt', 'rb') as f:\n",
    "        candidate = pickle.load(f)"
   ]
  },
  {
   "cell_type": "code",
   "execution_count": 16,
   "metadata": {},
   "outputs": [],
   "source": [
    "if brute == 1:\n",
    "    with open('./good_encode.txt', 'wb') as f:\n",
    "        pickle.dump(candidate, f)"
   ]
  },
  {
   "cell_type": "code",
   "execution_count": 17,
   "metadata": {},
   "outputs": [
    {
     "name": "stdout",
     "output_type": "stream",
     "text": [
      "4 Set\n",
      "BEST:  {'option': '000001101', 'score': 0.5385921941240265, 'Set count': 4}\n"
     ]
    }
   ],
   "source": [
    "print(len(all_seqs), \"Set\\nBEST: \", best)"
   ]
  },
  {
   "cell_type": "code",
   "execution_count": 18,
   "metadata": {},
   "outputs": [
    {
     "data": {
      "text/plain": [
       "1"
      ]
     },
     "execution_count": 18,
     "metadata": {},
     "output_type": "execute_result"
    }
   ],
   "source": [
    "seg_method"
   ]
  },
  {
   "cell_type": "code",
   "execution_count": null,
   "metadata": {},
   "outputs": [],
   "source": []
  }
 ],
 "metadata": {
  "kernelspec": {
   "display_name": "Python 3",
   "language": "python",
   "name": "python3"
  },
  "language_info": {
   "codemirror_mode": {
    "name": "ipython",
    "version": 3
   },
   "file_extension": ".py",
   "mimetype": "text/x-python",
   "name": "python",
   "nbconvert_exporter": "python",
   "pygments_lexer": "ipython3",
   "version": "3.7.4"
  }
 },
 "nbformat": 4,
 "nbformat_minor": 2
}
