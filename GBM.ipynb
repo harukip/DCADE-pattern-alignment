{
 "cells": [
  {
   "cell_type": "code",
   "execution_count": 1,
   "metadata": {},
   "outputs": [],
   "source": [
    "from xgboost import XGBClassifier\n",
    "import pandas as pd\n",
    "import os\n",
    "from sklearn.model_selection import train_test_split\n",
    "from sklearn.metrics import mean_absolute_error\n",
    "from glob import glob"
   ]
  },
  {
   "cell_type": "code",
   "execution_count": 2,
   "metadata": {},
   "outputs": [],
   "source": [
    "def GBM_predict(data_name, model_name):\n",
    "    import pickle\n",
    "    X = pd.read_csv(os.path.join(\".\", \"GBM\", data_name+\".csv\"), index_col=0)\n",
    "    ignore_cols = ['encode', 'rep_time', 'ign_len']\n",
    "    X.drop(['label'], axis=1, inplace=True)\n",
    "    with open(os.path.join(\".\", \"GBM\", model_name+\".dat\"), 'rb') as f:\n",
    "        model = pickle.load(f)\n",
    "    numeric_cols = [cname for cname in X.columns if X[cname].dtype in ['int64', 'float64'] and cname not in ignore_cols]\n",
    "    X_test = X[numeric_cols].copy()\n",
    "    y_test = model.predict(X_test)\n",
    "    X['good_encode'] = y_test\n",
    "    isgood = X['good_encode'] == 1\n",
    "    filter_X = X[isgood]\n",
    "    best = filter_X.sort_values(by='similarity', ascending=False).iloc[0]\n",
    "    return int(best['encode']), int(best['ign_len'])"
   ]
  },
  {
   "cell_type": "code",
   "execution_count": 3,
   "metadata": {},
   "outputs": [],
   "source": [
    "def train_data_prepare():\n",
    "    files = glob(os.path.join(\".\", \"GBM\", \"train*\"))\n",
    "    print(\"files:\", len(files))\n",
    "    train = pd.DataFrame()\n",
    "    for f in files:\n",
    "        new_file = pd.read_csv(f, index_col=0)\n",
    "        train = pd.concat([train, new_file], ignore_index=True)\n",
    "    return train"
   ]
  },
  {
   "cell_type": "code",
   "execution_count": 14,
   "metadata": {},
   "outputs": [],
   "source": [
    "def train_model(X):\n",
    "    y = X.label\n",
    "    X.drop(['label'], axis=1, inplace=True)\n",
    "    X_train_full, X_val_full, y_train, y_val = train_test_split(X, y, train_size=0.8, test_size=0.2, random_state=0)\n",
    "    ignore_cols = ['encode', 'rep_time', 'ign_len']\n",
    "    numeric_cols = [cname for cname in X_train_full.columns if X_train_full[cname].dtype in ['int64', 'float64'] and cname not in ignore_cols]   \n",
    "    X_train = X_train_full[numeric_cols].copy()\n",
    "    X_valid = X_val_full[numeric_cols].copy()\n",
    "    \n",
    "    model = XGBClassifier(random_state=0)\n",
    "    model.fit(X=X_train, y=y_train, eval_set=[(X_valid, y_val)], early_stopping_rounds=3)\n",
    "    y_pred = model.predict(X_valid)\n",
    "    \n",
    "    print(\"MAE:\", mean_absolute_error(y_true=y_val, y_pred=y_pred))\n",
    "    \n",
    "    prediction = model.predict(X[numeric_cols])\n",
    "    X['good_encode'] = prediction\n",
    "    isgood = X['good_encode'] == 1\n",
    "    filter_X = X[isgood]\n",
    "    print(filter_X.sort_values(by='similarity', ascending=False).iloc[0])\n",
    "    return model"
   ]
  },
  {
   "cell_type": "code",
   "execution_count": 5,
   "metadata": {},
   "outputs": [],
   "source": [
    "def save_model(model, model_name):\n",
    "    import pickle\n",
    "    with open(os.path.join(\".\", \"GBM\", model_name+\".dat\"), 'wb') as f:\n",
    "        pickle.dump(model, f)"
   ]
  },
  {
   "cell_type": "code",
   "execution_count": 15,
   "metadata": {},
   "outputs": [
    {
     "name": "stdout",
     "output_type": "stream",
     "text": [
      "files: 8\n",
      "[0]\tvalidation_0-error:0.00020\n",
      "Will train until validation_0-error hasn't improved in 3 rounds.\n",
      "[1]\tvalidation_0-error:0.00020\n",
      "[2]\tvalidation_0-error:0.00020\n",
      "[3]\tvalidation_0-error:0.00020\n",
      "Stopping. Best iteration:\n",
      "[0]\tvalidation_0-error:0.00020\n",
      "\n",
      "MAE: 0.00020383204239706482\n",
      "encode              1.101100e+08\n",
      "ign_len             2.000000e+00\n",
      "rep_time            1.000000e+01\n",
      "data_block_delta    0.000000e+00\n",
      "similarity          8.097503e-01\n",
      "data_block_len      1.000000e+01\n",
      "top_rep_density     3.000000e-01\n",
      "top_rep_variance    0.000000e+00\n",
      "top_rep_overlap     6.000000e+00\n",
      "good_encode         1.000000e+00\n",
      "Name: 4231, dtype: float64\n"
     ]
    }
   ],
   "source": [
    "if __name__ == \"__main__\":\n",
    "    data = train_data_prepare()\n",
    "    model = train_model(data)\n",
    "    save_model(model, \"8_model\")"
   ]
  },
  {
   "cell_type": "code",
   "execution_count": null,
   "metadata": {},
   "outputs": [],
   "source": []
  }
 ],
 "metadata": {
  "kernelspec": {
   "display_name": "Python 3",
   "language": "python",
   "name": "python3"
  },
  "language_info": {
   "codemirror_mode": {
    "name": "ipython",
    "version": 3
   },
   "file_extension": ".py",
   "mimetype": "text/x-python",
   "name": "python",
   "nbconvert_exporter": "python",
   "pygments_lexer": "ipython3",
   "version": "3.7.4"
  }
 },
 "nbformat": 4,
 "nbformat_minor": 2
}
