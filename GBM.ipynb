{
 "cells": [
  {
   "cell_type": "code",
   "execution_count": null,
   "metadata": {},
   "outputs": [],
   "source": [
    "from xgboost import XGBClassifier\n",
    "import pandas as pd\n",
    "import os\n",
    "from sklearn.model_selection import train_test_split\n",
    "from sklearn.metrics import mean_absolute_error"
   ]
  },
  {
   "cell_type": "code",
   "execution_count": null,
   "metadata": {},
   "outputs": [],
   "source": [
    "def GBM_predict(X):\n",
    "    import pickle\n",
    "    ignore_cols = ['encode', 'rep_time']\n",
    "    X.drop(['label'], axis=1, inplace=True)\n",
    "    with open(\"./GBM/model.dat\", 'rb') as f:\n",
    "        model = pickle.load(f)\n",
    "    numeric_cols = [cname for cname in X.columns if X[cname].dtype in ['int64', 'float64'] and cname not in ignore_cols]\n",
    "    X_test = X[numeric_cols].copy()\n",
    "    y_test = model.predict(X_test)\n",
    "    X['good_encode'] = y_test\n",
    "    isgood = X['good_encode'] == 1\n",
    "    filter_X = X[isgood]\n",
    "    best = filter_X.sort_values(by='similarity', ascending=False).iloc[0]\n",
    "    return int(best['encode']), int(best['ign_len'])"
   ]
  },
  {
   "cell_type": "code",
   "execution_count": null,
   "metadata": {},
   "outputs": [],
   "source": [
    "if __name__ == \"__main__\":\n",
    "    X = pd.read_csv(\"./GBM/encode_data.csv\", index_col=0)\n",
    "    y = X.label\n",
    "    X.drop(['label'], axis=1, inplace=True)\n",
    "    X_train_full, X_val_full, y_train, y_val = train_test_split(X, y, train_size=0.8, test_size=0.2, random_state=0)\n",
    "    ignore_cols = ['encode', 'rep_time']\n",
    "    numeric_cols = [cname for cname in X_train_full.columns if X_train_full[cname].dtype in ['int64', 'float64'] and cname not in ignore_cols]   \n",
    "    X_train = X_train_full[numeric_cols].copy()\n",
    "    X_valid = X_val_full[numeric_cols].copy()\n",
    "    \n",
    "    model = XGBClassifier(random_state=0)\n",
    "    model.fit(X_train, y_train)\n",
    "    y_pred = model.predict(X_valid)\n",
    "    \n",
    "    print(\"MAE:\", mean_absolute_error(y_true=y_val, y_pred=y_pred))\n",
    "    \n",
    "    prediction = model.predict(X[numeric_cols])\n",
    "    X['good_encode'] = prediction\n",
    "    isgood = X['good_encode'] == 1\n",
    "    filter_X = X[isgood]\n",
    "    print(filter_X.sort_values(by='similarity', ascending=False).iloc[0])"
   ]
  },
  {
   "cell_type": "code",
   "execution_count": null,
   "metadata": {},
   "outputs": [],
   "source": [
    "\"\"\"import pickle\n",
    "with open(\"./GBM/model.dat\", 'wb') as f:\n",
    "    pickle.dump(model, f)\"\"\""
   ]
  },
  {
   "cell_type": "code",
   "execution_count": null,
   "metadata": {},
   "outputs": [],
   "source": [
    "\"\"\"X = pd.read_csv(\"./GBM/encode_data.csv\", index_col=0)\n",
    "print(GBM_predict(X))\"\"\""
   ]
  },
  {
   "cell_type": "code",
   "execution_count": null,
   "metadata": {},
   "outputs": [],
   "source": []
  }
 ],
 "metadata": {
  "kernelspec": {
   "display_name": "Python 3",
   "language": "python",
   "name": "python3"
  },
  "language_info": {
   "codemirror_mode": {
    "name": "ipython",
    "version": 3
   },
   "file_extension": ".py",
   "mimetype": "text/x-python",
   "name": "python",
   "nbconvert_exporter": "python",
   "pygments_lexer": "ipython3",
   "version": "3.7.4"
  }
 },
 "nbformat": 4,
 "nbformat_minor": 2
}
